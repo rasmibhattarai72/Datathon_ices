{
 "cells": [
  {
   "cell_type": "code",
   "execution_count": 2,
   "id": "62ce6589",
   "metadata": {},
   "outputs": [],
   "source": [
    "import pandas as pd\n",
    "import numpy as np\n",
    "import matplotlib.pyplot as plt"
   ]
  },
  {
   "cell_type": "code",
   "execution_count": 10,
   "id": "59a8307c",
   "metadata": {},
   "outputs": [],
   "source": [
    "central_kaski = pd.read_csv(\"Datathon Final dataset/Central election 2074/गण्डकी प्रदेश/कास्की/1.csv\")"
   ]
  },
  {
   "cell_type": "code",
   "execution_count": 11,
   "id": "8678bfcc",
   "metadata": {},
   "outputs": [
    {
     "data": {
      "text/html": [
       "<div>\n",
       "<style scoped>\n",
       "    .dataframe tbody tr th:only-of-type {\n",
       "        vertical-align: middle;\n",
       "    }\n",
       "\n",
       "    .dataframe tbody tr th {\n",
       "        vertical-align: top;\n",
       "    }\n",
       "\n",
       "    .dataframe thead th {\n",
       "        text-align: right;\n",
       "    }\n",
       "</style>\n",
       "<table border=\"1\" class=\"dataframe\">\n",
       "  <thead>\n",
       "    <tr style=\"text-align: right;\">\n",
       "      <th></th>\n",
       "      <th>SerialNo</th>\n",
       "      <th>StateID</th>\n",
       "      <th>CandidateName</th>\n",
       "      <th>Gender</th>\n",
       "      <th>Age</th>\n",
       "      <th>PoliticalPartyName</th>\n",
       "      <th>DistrictName</th>\n",
       "      <th>CenterConstID</th>\n",
       "      <th>TotalVotesReceived</th>\n",
       "      <th>EStatus</th>\n",
       "      <th>Rank</th>\n",
       "    </tr>\n",
       "  </thead>\n",
       "  <tbody>\n",
       "    <tr>\n",
       "      <th>0</th>\n",
       "      <td>1311</td>\n",
       "      <td>4.0</td>\n",
       "      <td>खगराज अधिकारी</td>\n",
       "      <td>पुरुष</td>\n",
       "      <td>55</td>\n",
       "      <td>नेपाल कम्युनिष्ट पार्टी (एमाले)</td>\n",
       "      <td>कास्की</td>\n",
       "      <td>1.0</td>\n",
       "      <td>39242</td>\n",
       "      <td>Elected</td>\n",
       "      <td>1</td>\n",
       "    </tr>\n",
       "    <tr>\n",
       "      <th>1</th>\n",
       "      <td>1312</td>\n",
       "      <td>4.0</td>\n",
       "      <td>यज्ञ बहादुर थापा</td>\n",
       "      <td>पुरुष</td>\n",
       "      <td>63</td>\n",
       "      <td>नेपाली काँग्रेस</td>\n",
       "      <td>कास्की</td>\n",
       "      <td>1.0</td>\n",
       "      <td>25826</td>\n",
       "      <td>NaN</td>\n",
       "      <td>2</td>\n",
       "    </tr>\n",
       "    <tr>\n",
       "      <th>2</th>\n",
       "      <td>1313</td>\n",
       "      <td>4.0</td>\n",
       "      <td>मन बहादुर गुरुङ्ग</td>\n",
       "      <td>पुरुष</td>\n",
       "      <td>60</td>\n",
       "      <td>संघीय समाजवादी फोरम नेपाल</td>\n",
       "      <td>कास्की</td>\n",
       "      <td>1.0</td>\n",
       "      <td>786</td>\n",
       "      <td>NaN</td>\n",
       "      <td>3</td>\n",
       "    </tr>\n",
       "    <tr>\n",
       "      <th>3</th>\n",
       "      <td>1314</td>\n",
       "      <td>NaN</td>\n",
       "      <td>दिपक पौडेल</td>\n",
       "      <td>पुरुष</td>\n",
       "      <td>32</td>\n",
       "      <td>विवेकशील साझा पार्टी</td>\n",
       "      <td>कास्की</td>\n",
       "      <td>1.0</td>\n",
       "      <td>589</td>\n",
       "      <td>NaN</td>\n",
       "      <td>4</td>\n",
       "    </tr>\n",
       "    <tr>\n",
       "      <th>4</th>\n",
       "      <td>1315</td>\n",
       "      <td>4.0</td>\n",
       "      <td>चन्द्र बहादुर रानाभाट</td>\n",
       "      <td>पुरुष</td>\n",
       "      <td>57</td>\n",
       "      <td>नेपाली कांग्रेस (बी.पी.)</td>\n",
       "      <td>कास्की</td>\n",
       "      <td>1.0</td>\n",
       "      <td>346</td>\n",
       "      <td>NaN</td>\n",
       "      <td>5</td>\n",
       "    </tr>\n",
       "  </tbody>\n",
       "</table>\n",
       "</div>"
      ],
      "text/plain": [
       "   SerialNo  StateID          CandidateName Gender  Age  \\\n",
       "0      1311      4.0          खगराज अधिकारी  पुरुष   55   \n",
       "1      1312      4.0       यज्ञ बहादुर थापा  पुरुष   63   \n",
       "2      1313      4.0      मन बहादुर गुरुङ्ग  पुरुष   60   \n",
       "3      1314      NaN             दिपक पौडेल  पुरुष   32   \n",
       "4      1315      4.0  चन्द्र बहादुर रानाभाट  पुरुष   57   \n",
       "\n",
       "                PoliticalPartyName DistrictName  CenterConstID  \\\n",
       "0  नेपाल कम्युनिष्ट पार्टी (एमाले)       कास्की            1.0   \n",
       "1                  नेपाली काँग्रेस       कास्की            1.0   \n",
       "2        संघीय समाजवादी फोरम नेपाल       कास्की            1.0   \n",
       "3             विवेकशील साझा पार्टी       कास्की            1.0   \n",
       "4         नेपाली कांग्रेस (बी.पी.)       कास्की            1.0   \n",
       "\n",
       "   TotalVotesReceived  EStatus  Rank  \n",
       "0               39242  Elected     1  \n",
       "1               25826      NaN     2  \n",
       "2                 786      NaN     3  \n",
       "3                 589      NaN     4  \n",
       "4                 346      NaN     5  "
      ]
     },
     "execution_count": 11,
     "metadata": {},
     "output_type": "execute_result"
    }
   ],
   "source": [
    "central_kaski.head()"
   ]
  },
  {
   "cell_type": "code",
   "execution_count": 12,
   "id": "21cef9ad",
   "metadata": {},
   "outputs": [
    {
     "data": {
      "text/plain": [
       "12"
      ]
     },
     "execution_count": 12,
     "metadata": {},
     "output_type": "execute_result"
    }
   ],
   "source": [
    "len(central_kaski)"
   ]
  },
  {
   "cell_type": "code",
   "execution_count": null,
   "id": "67ca3f8f",
   "metadata": {},
   "outputs": [],
   "source": []
  }
 ],
 "metadata": {
  "kernelspec": {
   "display_name": "Python 3 (ipykernel)",
   "language": "python",
   "name": "python3"
  },
  "language_info": {
   "codemirror_mode": {
    "name": "ipython",
    "version": 3
   },
   "file_extension": ".py",
   "mimetype": "text/x-python",
   "name": "python",
   "nbconvert_exporter": "python",
   "pygments_lexer": "ipython3",
   "version": "3.9.13"
  }
 },
 "nbformat": 4,
 "nbformat_minor": 5
}
