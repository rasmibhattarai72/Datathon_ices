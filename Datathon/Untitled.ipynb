{
 "cells": [
  {
   "cell_type": "code",
   "execution_count": 1,
   "id": "62ce6589",
   "metadata": {},
   "outputs": [],
   "source": [
    "import pandas as pd\n",
    "import numpy as np\n",
    "import matplotlib.pyplot as plt"
   ]
  },
  {
   "cell_type": "code",
   "execution_count": 2,
   "id": "59a8307c",
   "metadata": {},
   "outputs": [],
   "source": [
    "central_kaski = pd.read_csv(\"Datathon Final dataset/Central election 2074/गण्डकी प्रदेश/कास्की/1.csv\")"
   ]
  },
  {
   "cell_type": "code",
   "execution_count": 3,
   "id": "8678bfcc",
   "metadata": {},
   "outputs": [
    {
     "data": {
      "text/html": [
       "<div>\n",
       "<style scoped>\n",
       "    .dataframe tbody tr th:only-of-type {\n",
       "        vertical-align: middle;\n",
       "    }\n",
       "\n",
       "    .dataframe tbody tr th {\n",
       "        vertical-align: top;\n",
       "    }\n",
       "\n",
       "    .dataframe thead th {\n",
       "        text-align: right;\n",
       "    }\n",
       "</style>\n",
       "<table border=\"1\" class=\"dataframe\">\n",
       "  <thead>\n",
       "    <tr style=\"text-align: right;\">\n",
       "      <th></th>\n",
       "      <th>SerialNo</th>\n",
       "      <th>StateID</th>\n",
       "      <th>CandidateName</th>\n",
       "      <th>Gender</th>\n",
       "      <th>Age</th>\n",
       "      <th>PoliticalPartyName</th>\n",
       "      <th>DistrictName</th>\n",
       "      <th>CenterConstID</th>\n",
       "      <th>TotalVotesReceived</th>\n",
       "      <th>EStatus</th>\n",
       "      <th>Rank</th>\n",
       "    </tr>\n",
       "  </thead>\n",
       "  <tbody>\n",
       "    <tr>\n",
       "      <th>0</th>\n",
       "      <td>1311</td>\n",
       "      <td>4.0</td>\n",
       "      <td>खगराज अधिकारी</td>\n",
       "      <td>पुरुष</td>\n",
       "      <td>55</td>\n",
       "      <td>नेपाल कम्युनिष्ट पार्टी (एमाले)</td>\n",
       "      <td>कास्की</td>\n",
       "      <td>1.0</td>\n",
       "      <td>39242</td>\n",
       "      <td>Elected</td>\n",
       "      <td>1</td>\n",
       "    </tr>\n",
       "    <tr>\n",
       "      <th>1</th>\n",
       "      <td>1312</td>\n",
       "      <td>4.0</td>\n",
       "      <td>यज्ञ बहादुर थापा</td>\n",
       "      <td>पुरुष</td>\n",
       "      <td>63</td>\n",
       "      <td>नेपाली काँग्रेस</td>\n",
       "      <td>कास्की</td>\n",
       "      <td>1.0</td>\n",
       "      <td>25826</td>\n",
       "      <td>NaN</td>\n",
       "      <td>2</td>\n",
       "    </tr>\n",
       "    <tr>\n",
       "      <th>2</th>\n",
       "      <td>1313</td>\n",
       "      <td>4.0</td>\n",
       "      <td>मन बहादुर गुरुङ्ग</td>\n",
       "      <td>पुरुष</td>\n",
       "      <td>60</td>\n",
       "      <td>संघीय समाजवादी फोरम नेपाल</td>\n",
       "      <td>कास्की</td>\n",
       "      <td>1.0</td>\n",
       "      <td>786</td>\n",
       "      <td>NaN</td>\n",
       "      <td>3</td>\n",
       "    </tr>\n",
       "    <tr>\n",
       "      <th>3</th>\n",
       "      <td>1314</td>\n",
       "      <td>NaN</td>\n",
       "      <td>दिपक पौडेल</td>\n",
       "      <td>पुरुष</td>\n",
       "      <td>32</td>\n",
       "      <td>विवेकशील साझा पार्टी</td>\n",
       "      <td>कास्की</td>\n",
       "      <td>1.0</td>\n",
       "      <td>589</td>\n",
       "      <td>NaN</td>\n",
       "      <td>4</td>\n",
       "    </tr>\n",
       "    <tr>\n",
       "      <th>4</th>\n",
       "      <td>1315</td>\n",
       "      <td>4.0</td>\n",
       "      <td>चन्द्र बहादुर रानाभाट</td>\n",
       "      <td>पुरुष</td>\n",
       "      <td>57</td>\n",
       "      <td>नेपाली कांग्रेस (बी.पी.)</td>\n",
       "      <td>कास्की</td>\n",
       "      <td>1.0</td>\n",
       "      <td>346</td>\n",
       "      <td>NaN</td>\n",
       "      <td>5</td>\n",
       "    </tr>\n",
       "  </tbody>\n",
       "</table>\n",
       "</div>"
      ],
      "text/plain": [
       "   SerialNo  StateID          CandidateName Gender  Age  \\\n",
       "0      1311      4.0          खगराज अधिकारी  पुरुष   55   \n",
       "1      1312      4.0       यज्ञ बहादुर थापा  पुरुष   63   \n",
       "2      1313      4.0      मन बहादुर गुरुङ्ग  पुरुष   60   \n",
       "3      1314      NaN             दिपक पौडेल  पुरुष   32   \n",
       "4      1315      4.0  चन्द्र बहादुर रानाभाट  पुरुष   57   \n",
       "\n",
       "                PoliticalPartyName DistrictName  CenterConstID  \\\n",
       "0  नेपाल कम्युनिष्ट पार्टी (एमाले)       कास्की            1.0   \n",
       "1                  नेपाली काँग्रेस       कास्की            1.0   \n",
       "2        संघीय समाजवादी फोरम नेपाल       कास्की            1.0   \n",
       "3             विवेकशील साझा पार्टी       कास्की            1.0   \n",
       "4         नेपाली कांग्रेस (बी.पी.)       कास्की            1.0   \n",
       "\n",
       "   TotalVotesReceived  EStatus  Rank  \n",
       "0               39242  Elected     1  \n",
       "1               25826      NaN     2  \n",
       "2                 786      NaN     3  \n",
       "3                 589      NaN     4  \n",
       "4                 346      NaN     5  "
      ]
     },
     "execution_count": 3,
     "metadata": {},
     "output_type": "execute_result"
    }
   ],
   "source": [
    "central_kaski.head()"
   ]
  },
  {
   "cell_type": "code",
   "execution_count": 4,
   "id": "21cef9ad",
   "metadata": {},
   "outputs": [
    {
     "data": {
      "text/plain": [
       "12"
      ]
     },
     "execution_count": 4,
     "metadata": {},
     "output_type": "execute_result"
    }
   ],
   "source": [
    "len(central_kaski)"
   ]
  },
  {
   "cell_type": "code",
   "execution_count": 5,
   "id": "67ca3f8f",
   "metadata": {},
   "outputs": [],
   "source": [
    "central_gorkha = pd.read_csv(\"Datathon Final dataset/Central election 2074/गण्डकी प्रदेश/गोरखा/1.csv\")\n",
    "#C:\\Users\\Dell\\Desktop\\Datathon_ices\\Datathon\\Datathon Final dataset\\Central election 2074\\गण्डकी प्रदेश\\गोरखा"
   ]
  },
  {
   "cell_type": "code",
   "execution_count": 6,
   "id": "37b6dc9d",
   "metadata": {},
   "outputs": [
    {
     "data": {
      "text/html": [
       "<div>\n",
       "<style scoped>\n",
       "    .dataframe tbody tr th:only-of-type {\n",
       "        vertical-align: middle;\n",
       "    }\n",
       "\n",
       "    .dataframe tbody tr th {\n",
       "        vertical-align: top;\n",
       "    }\n",
       "\n",
       "    .dataframe thead th {\n",
       "        text-align: right;\n",
       "    }\n",
       "</style>\n",
       "<table border=\"1\" class=\"dataframe\">\n",
       "  <thead>\n",
       "    <tr style=\"text-align: right;\">\n",
       "      <th></th>\n",
       "      <th>SerialNo</th>\n",
       "      <th>StateID</th>\n",
       "      <th>CandidateName</th>\n",
       "      <th>Gender</th>\n",
       "      <th>Age</th>\n",
       "      <th>PoliticalPartyName</th>\n",
       "      <th>DistrictName</th>\n",
       "      <th>CenterConstID</th>\n",
       "      <th>TotalVotesReceived</th>\n",
       "      <th>EStatus</th>\n",
       "      <th>Rank</th>\n",
       "    </tr>\n",
       "  </thead>\n",
       "  <tbody>\n",
       "    <tr>\n",
       "      <th>0</th>\n",
       "      <td>1281</td>\n",
       "      <td>4</td>\n",
       "      <td>हरि राज अधिकारी</td>\n",
       "      <td>पुरुष</td>\n",
       "      <td>49.0</td>\n",
       "      <td>नेपाल कम्युनिष्ट पार्टी (माओवादी केन्द्र)</td>\n",
       "      <td>गोरखा</td>\n",
       "      <td>1</td>\n",
       "      <td>29860</td>\n",
       "      <td>Elected</td>\n",
       "      <td>1</td>\n",
       "    </tr>\n",
       "    <tr>\n",
       "      <th>1</th>\n",
       "      <td>1282</td>\n",
       "      <td>4</td>\n",
       "      <td>चिनकाजी श्रेष्ठ</td>\n",
       "      <td>पुरुष</td>\n",
       "      <td>68.0</td>\n",
       "      <td>नेपाली काँग्रेस</td>\n",
       "      <td>गोरखा</td>\n",
       "      <td>1</td>\n",
       "      <td>26643</td>\n",
       "      <td>NaN</td>\n",
       "      <td>2</td>\n",
       "    </tr>\n",
       "    <tr>\n",
       "      <th>2</th>\n",
       "      <td>1283</td>\n",
       "      <td>4</td>\n",
       "      <td>नारायण बाबु आचार्य</td>\n",
       "      <td>पुरुष</td>\n",
       "      <td>NaN</td>\n",
       "      <td>नेपाल कम्युनिष्ट पार्टी (माले)</td>\n",
       "      <td>गोरखा</td>\n",
       "      <td>1</td>\n",
       "      <td>1639</td>\n",
       "      <td>NaN</td>\n",
       "      <td>3</td>\n",
       "    </tr>\n",
       "    <tr>\n",
       "      <th>3</th>\n",
       "      <td>1284</td>\n",
       "      <td>4</td>\n",
       "      <td>दिपेन्द्र गुरुङ</td>\n",
       "      <td>पुरुष</td>\n",
       "      <td>30.0</td>\n",
       "      <td>संघीय समाजवादी फोरम नेपाल</td>\n",
       "      <td>गोरखा</td>\n",
       "      <td>1</td>\n",
       "      <td>539</td>\n",
       "      <td>NaN</td>\n",
       "      <td>4</td>\n",
       "    </tr>\n",
       "    <tr>\n",
       "      <th>4</th>\n",
       "      <td>1285</td>\n",
       "      <td>4</td>\n",
       "      <td>अमृत पुडासेनी</td>\n",
       "      <td>पुरुष</td>\n",
       "      <td>33.0</td>\n",
       "      <td>विवेकशील साझा पार्टी</td>\n",
       "      <td>गोरखा</td>\n",
       "      <td>1</td>\n",
       "      <td>256</td>\n",
       "      <td>NaN</td>\n",
       "      <td>5</td>\n",
       "    </tr>\n",
       "  </tbody>\n",
       "</table>\n",
       "</div>"
      ],
      "text/plain": [
       "   SerialNo  StateID       CandidateName Gender   Age  \\\n",
       "0      1281        4     हरि राज अधिकारी  पुरुष  49.0   \n",
       "1      1282        4     चिनकाजी श्रेष्ठ  पुरुष  68.0   \n",
       "2      1283        4  नारायण बाबु आचार्य  पुरुष   NaN   \n",
       "3      1284        4     दिपेन्द्र गुरुङ  पुरुष  30.0   \n",
       "4      1285        4       अमृत पुडासेनी  पुरुष  33.0   \n",
       "\n",
       "                          PoliticalPartyName DistrictName  CenterConstID  \\\n",
       "0  नेपाल कम्युनिष्ट पार्टी (माओवादी केन्द्र)        गोरखा              1   \n",
       "1                            नेपाली काँग्रेस        गोरखा              1   \n",
       "2            नेपाल कम्युनिष्ट पार्टी (माले)         गोरखा              1   \n",
       "3                  संघीय समाजवादी फोरम नेपाल        गोरखा              1   \n",
       "4                       विवेकशील साझा पार्टी        गोरखा              1   \n",
       "\n",
       "   TotalVotesReceived  EStatus  Rank  \n",
       "0               29860  Elected     1  \n",
       "1               26643      NaN     2  \n",
       "2                1639      NaN     3  \n",
       "3                 539      NaN     4  \n",
       "4                 256      NaN     5  "
      ]
     },
     "execution_count": 6,
     "metadata": {},
     "output_type": "execute_result"
    }
   ],
   "source": [
    "central_gorkha.head()"
   ]
  },
  {
   "cell_type": "code",
   "execution_count": 10,
   "id": "bc877b67",
   "metadata": {},
   "outputs": [
    {
     "data": {
      "text/html": [
       "<div>\n",
       "<style scoped>\n",
       "    .dataframe tbody tr th:only-of-type {\n",
       "        vertical-align: middle;\n",
       "    }\n",
       "\n",
       "    .dataframe tbody tr th {\n",
       "        vertical-align: top;\n",
       "    }\n",
       "\n",
       "    .dataframe thead th {\n",
       "        text-align: right;\n",
       "    }\n",
       "</style>\n",
       "<table border=\"1\" class=\"dataframe\">\n",
       "  <thead>\n",
       "    <tr style=\"text-align: right;\">\n",
       "      <th></th>\n",
       "      <th>SerialNo_x</th>\n",
       "      <th>StateID</th>\n",
       "      <th>CandidateName_x</th>\n",
       "      <th>Gender_x</th>\n",
       "      <th>Age_x</th>\n",
       "      <th>PoliticalPartyName_x</th>\n",
       "      <th>DistrictName_x</th>\n",
       "      <th>CenterConstID_x</th>\n",
       "      <th>TotalVotesReceived_x</th>\n",
       "      <th>EStatus_x</th>\n",
       "      <th>...</th>\n",
       "      <th>SerialNo_y</th>\n",
       "      <th>CandidateName_y</th>\n",
       "      <th>Gender_y</th>\n",
       "      <th>Age_y</th>\n",
       "      <th>PoliticalPartyName_y</th>\n",
       "      <th>DistrictName_y</th>\n",
       "      <th>CenterConstID_y</th>\n",
       "      <th>TotalVotesReceived_y</th>\n",
       "      <th>EStatus_y</th>\n",
       "      <th>Rank_y</th>\n",
       "    </tr>\n",
       "  </thead>\n",
       "  <tbody>\n",
       "    <tr>\n",
       "      <th>0</th>\n",
       "      <td>1311</td>\n",
       "      <td>4.0</td>\n",
       "      <td>खगराज अधिकारी</td>\n",
       "      <td>पुरुष</td>\n",
       "      <td>55</td>\n",
       "      <td>नेपाल कम्युनिष्ट पार्टी (एमाले)</td>\n",
       "      <td>कास्की</td>\n",
       "      <td>1.0</td>\n",
       "      <td>39242</td>\n",
       "      <td>Elected</td>\n",
       "      <td>...</td>\n",
       "      <td>1281</td>\n",
       "      <td>हरि राज अधिकारी</td>\n",
       "      <td>पुरुष</td>\n",
       "      <td>49.0</td>\n",
       "      <td>नेपाल कम्युनिष्ट पार्टी (माओवादी केन्द्र)</td>\n",
       "      <td>गोरखा</td>\n",
       "      <td>1</td>\n",
       "      <td>29860</td>\n",
       "      <td>Elected</td>\n",
       "      <td>1</td>\n",
       "    </tr>\n",
       "    <tr>\n",
       "      <th>1</th>\n",
       "      <td>1311</td>\n",
       "      <td>4.0</td>\n",
       "      <td>खगराज अधिकारी</td>\n",
       "      <td>पुरुष</td>\n",
       "      <td>55</td>\n",
       "      <td>नेपाल कम्युनिष्ट पार्टी (एमाले)</td>\n",
       "      <td>कास्की</td>\n",
       "      <td>1.0</td>\n",
       "      <td>39242</td>\n",
       "      <td>Elected</td>\n",
       "      <td>...</td>\n",
       "      <td>1282</td>\n",
       "      <td>चिनकाजी श्रेष्ठ</td>\n",
       "      <td>पुरुष</td>\n",
       "      <td>68.0</td>\n",
       "      <td>नेपाली काँग्रेस</td>\n",
       "      <td>गोरखा</td>\n",
       "      <td>1</td>\n",
       "      <td>26643</td>\n",
       "      <td>NaN</td>\n",
       "      <td>2</td>\n",
       "    </tr>\n",
       "    <tr>\n",
       "      <th>2</th>\n",
       "      <td>1311</td>\n",
       "      <td>4.0</td>\n",
       "      <td>खगराज अधिकारी</td>\n",
       "      <td>पुरुष</td>\n",
       "      <td>55</td>\n",
       "      <td>नेपाल कम्युनिष्ट पार्टी (एमाले)</td>\n",
       "      <td>कास्की</td>\n",
       "      <td>1.0</td>\n",
       "      <td>39242</td>\n",
       "      <td>Elected</td>\n",
       "      <td>...</td>\n",
       "      <td>1283</td>\n",
       "      <td>नारायण बाबु आचार्य</td>\n",
       "      <td>पुरुष</td>\n",
       "      <td>NaN</td>\n",
       "      <td>नेपाल कम्युनिष्ट पार्टी (माले)</td>\n",
       "      <td>गोरखा</td>\n",
       "      <td>1</td>\n",
       "      <td>1639</td>\n",
       "      <td>NaN</td>\n",
       "      <td>3</td>\n",
       "    </tr>\n",
       "    <tr>\n",
       "      <th>3</th>\n",
       "      <td>1311</td>\n",
       "      <td>4.0</td>\n",
       "      <td>खगराज अधिकारी</td>\n",
       "      <td>पुरुष</td>\n",
       "      <td>55</td>\n",
       "      <td>नेपाल कम्युनिष्ट पार्टी (एमाले)</td>\n",
       "      <td>कास्की</td>\n",
       "      <td>1.0</td>\n",
       "      <td>39242</td>\n",
       "      <td>Elected</td>\n",
       "      <td>...</td>\n",
       "      <td>1284</td>\n",
       "      <td>दिपेन्द्र गुरुङ</td>\n",
       "      <td>पुरुष</td>\n",
       "      <td>30.0</td>\n",
       "      <td>संघीय समाजवादी फोरम नेपाल</td>\n",
       "      <td>गोरखा</td>\n",
       "      <td>1</td>\n",
       "      <td>539</td>\n",
       "      <td>NaN</td>\n",
       "      <td>4</td>\n",
       "    </tr>\n",
       "    <tr>\n",
       "      <th>4</th>\n",
       "      <td>1311</td>\n",
       "      <td>4.0</td>\n",
       "      <td>खगराज अधिकारी</td>\n",
       "      <td>पुरुष</td>\n",
       "      <td>55</td>\n",
       "      <td>नेपाल कम्युनिष्ट पार्टी (एमाले)</td>\n",
       "      <td>कास्की</td>\n",
       "      <td>1.0</td>\n",
       "      <td>39242</td>\n",
       "      <td>Elected</td>\n",
       "      <td>...</td>\n",
       "      <td>1285</td>\n",
       "      <td>अमृत पुडासेनी</td>\n",
       "      <td>पुरुष</td>\n",
       "      <td>33.0</td>\n",
       "      <td>विवेकशील साझा पार्टी</td>\n",
       "      <td>गोरखा</td>\n",
       "      <td>1</td>\n",
       "      <td>256</td>\n",
       "      <td>NaN</td>\n",
       "      <td>5</td>\n",
       "    </tr>\n",
       "  </tbody>\n",
       "</table>\n",
       "<p>5 rows × 21 columns</p>\n",
       "</div>"
      ],
      "text/plain": [
       "   SerialNo_x  StateID CandidateName_x Gender_x  Age_x  \\\n",
       "0        1311      4.0   खगराज अधिकारी    पुरुष     55   \n",
       "1        1311      4.0   खगराज अधिकारी    पुरुष     55   \n",
       "2        1311      4.0   खगराज अधिकारी    पुरुष     55   \n",
       "3        1311      4.0   खगराज अधिकारी    पुरुष     55   \n",
       "4        1311      4.0   खगराज अधिकारी    पुरुष     55   \n",
       "\n",
       "              PoliticalPartyName_x DistrictName_x  CenterConstID_x  \\\n",
       "0  नेपाल कम्युनिष्ट पार्टी (एमाले)         कास्की              1.0   \n",
       "1  नेपाल कम्युनिष्ट पार्टी (एमाले)         कास्की              1.0   \n",
       "2  नेपाल कम्युनिष्ट पार्टी (एमाले)         कास्की              1.0   \n",
       "3  नेपाल कम्युनिष्ट पार्टी (एमाले)         कास्की              1.0   \n",
       "4  नेपाल कम्युनिष्ट पार्टी (एमाले)         कास्की              1.0   \n",
       "\n",
       "   TotalVotesReceived_x EStatus_x  ...  SerialNo_y     CandidateName_y  \\\n",
       "0                 39242   Elected  ...        1281     हरि राज अधिकारी   \n",
       "1                 39242   Elected  ...        1282     चिनकाजी श्रेष्ठ   \n",
       "2                 39242   Elected  ...        1283  नारायण बाबु आचार्य   \n",
       "3                 39242   Elected  ...        1284     दिपेन्द्र गुरुङ   \n",
       "4                 39242   Elected  ...        1285       अमृत पुडासेनी   \n",
       "\n",
       "  Gender_y Age_y                       PoliticalPartyName_y DistrictName_y  \\\n",
       "0    पुरुष  49.0  नेपाल कम्युनिष्ट पार्टी (माओवादी केन्द्र)          गोरखा   \n",
       "1    पुरुष  68.0                            नेपाली काँग्रेस          गोरखा   \n",
       "2    पुरुष   NaN            नेपाल कम्युनिष्ट पार्टी (माले)           गोरखा   \n",
       "3    पुरुष  30.0                  संघीय समाजवादी फोरम नेपाल          गोरखा   \n",
       "4    पुरुष  33.0                       विवेकशील साझा पार्टी          गोरखा   \n",
       "\n",
       "  CenterConstID_y  TotalVotesReceived_y  EStatus_y Rank_y  \n",
       "0               1                 29860    Elected      1  \n",
       "1               1                 26643        NaN      2  \n",
       "2               1                  1639        NaN      3  \n",
       "3               1                   539        NaN      4  \n",
       "4               1                   256        NaN      5  \n",
       "\n",
       "[5 rows x 21 columns]"
      ]
     },
     "execution_count": 10,
     "metadata": {},
     "output_type": "execute_result"
    }
   ],
   "source": [
    "merged_data = central_kaski.merge(central_gorkha,on=[\"StateID\"])\n",
    "merged_data.head()"
   ]
  },
  {
   "cell_type": "code",
   "execution_count": 11,
   "id": "929f5b8f",
   "metadata": {},
   "outputs": [
    {
     "data": {
      "text/plain": [
       "99"
      ]
     },
     "execution_count": 11,
     "metadata": {},
     "output_type": "execute_result"
    }
   ],
   "source": [
    "len(merged_data)"
   ]
  },
  {
   "cell_type": "code",
   "execution_count": 12,
   "id": "907bc9a4",
   "metadata": {},
   "outputs": [
    {
     "data": {
      "text/plain": [
       "9"
      ]
     },
     "execution_count": 12,
     "metadata": {},
     "output_type": "execute_result"
    }
   ],
   "source": [
    "len(central_gorkha)"
   ]
  },
  {
   "cell_type": "code",
   "execution_count": 13,
   "id": "15484138",
   "metadata": {},
   "outputs": [
    {
     "data": {
      "text/plain": [
       "SerialNo               0\n",
       "StateID                1\n",
       "CandidateName          0\n",
       "Gender                 0\n",
       "Age                    0\n",
       "PoliticalPartyName     0\n",
       "DistrictName           0\n",
       "CenterConstID          1\n",
       "TotalVotesReceived     0\n",
       "EStatus               11\n",
       "Rank                   0\n",
       "dtype: int64"
      ]
     },
     "execution_count": 13,
     "metadata": {},
     "output_type": "execute_result"
    }
   ],
   "source": [
    "central_kaski.isna().sum()"
   ]
  },
  {
   "cell_type": "code",
   "execution_count": 15,
   "id": "2a2e7214",
   "metadata": {},
   "outputs": [
    {
     "data": {
      "text/plain": [
       "1"
      ]
     },
     "execution_count": 15,
     "metadata": {},
     "output_type": "execute_result"
    }
   ],
   "source": [
    "central_kaski['EStatus'].count()"
   ]
  },
  {
   "cell_type": "code",
   "execution_count": 16,
   "id": "7035663e",
   "metadata": {},
   "outputs": [],
   "source": [
    "central_tanahun =pd.read_csv(\"Datathon Final dataset/Central election 2074/गण्डकी प्रदेश/तनहुँ/1.csv\")\n",
    "##C:\\Users\\Dell\\Desktop\\Datathon_ices\\Datathon\\Datathon Final dataset\\Central election 2074\\गण्डकी प्रदेश\\तनहुँ"
   ]
  },
  {
   "cell_type": "code",
   "execution_count": 24,
   "id": "28c3c392",
   "metadata": {},
   "outputs": [
    {
     "data": {
      "text/html": [
       "<div>\n",
       "<style scoped>\n",
       "    .dataframe tbody tr th:only-of-type {\n",
       "        vertical-align: middle;\n",
       "    }\n",
       "\n",
       "    .dataframe tbody tr th {\n",
       "        vertical-align: top;\n",
       "    }\n",
       "\n",
       "    .dataframe thead th {\n",
       "        text-align: right;\n",
       "    }\n",
       "</style>\n",
       "<table border=\"1\" class=\"dataframe\">\n",
       "  <thead>\n",
       "    <tr style=\"text-align: right;\">\n",
       "      <th></th>\n",
       "      <th>SerialNo</th>\n",
       "      <th>StateID</th>\n",
       "      <th>CandidateName</th>\n",
       "      <th>Gender</th>\n",
       "      <th>Age</th>\n",
       "      <th>PoliticalPartyName</th>\n",
       "      <th>DistrictName</th>\n",
       "      <th>CenterConstID</th>\n",
       "      <th>TotalVotesReceived</th>\n",
       "      <th>EStatus</th>\n",
       "      <th>Rank</th>\n",
       "    </tr>\n",
       "  </thead>\n",
       "  <tbody>\n",
       "    <tr>\n",
       "      <th>6</th>\n",
       "      <td>1352</td>\n",
       "      <td>4</td>\n",
       "      <td>सुन्दर लाल श्रेष्ठ</td>\n",
       "      <td>पुरुष</td>\n",
       "      <td>54</td>\n",
       "      <td>देशभक्त जनगणतान्त्रिक मोर्चा नेपाल</td>\n",
       "      <td>तनहुँ</td>\n",
       "      <td>1</td>\n",
       "      <td>NaN</td>\n",
       "      <td>NaN</td>\n",
       "      <td>7</td>\n",
       "    </tr>\n",
       "    <tr>\n",
       "      <th>7</th>\n",
       "      <td>1353</td>\n",
       "      <td>4</td>\n",
       "      <td>दुर्गा बहादुर थापा</td>\n",
       "      <td>पुरुष</td>\n",
       "      <td>37</td>\n",
       "      <td>स्वतन्त्र</td>\n",
       "      <td>तनहुँ</td>\n",
       "      <td>1</td>\n",
       "      <td>52.0</td>\n",
       "      <td>NaN</td>\n",
       "      <td>8</td>\n",
       "    </tr>\n",
       "    <tr>\n",
       "      <th>8</th>\n",
       "      <td>1354</td>\n",
       "      <td>4</td>\n",
       "      <td>बुद्धी बहादुर जि.सी.</td>\n",
       "      <td>पुरुष</td>\n",
       "      <td>68</td>\n",
       "      <td>नेपाल कम्युनिष्ट पार्टी (माक्र्सवादी)</td>\n",
       "      <td>तनहुँ</td>\n",
       "      <td>1</td>\n",
       "      <td>40.0</td>\n",
       "      <td>NaN</td>\n",
       "      <td>9</td>\n",
       "    </tr>\n",
       "    <tr>\n",
       "      <th>9</th>\n",
       "      <td>1355</td>\n",
       "      <td>4</td>\n",
       "      <td>मिन बहादुर गुरुङ</td>\n",
       "      <td>पुरुष</td>\n",
       "      <td>27</td>\n",
       "      <td>मंगोल नेशनल अर्गनाइजेसन</td>\n",
       "      <td>तनहुँ</td>\n",
       "      <td>1</td>\n",
       "      <td>34.0</td>\n",
       "      <td>NaN</td>\n",
       "      <td>10</td>\n",
       "    </tr>\n",
       "    <tr>\n",
       "      <th>10</th>\n",
       "      <td>1356</td>\n",
       "      <td>4</td>\n",
       "      <td>रेशम कुमार श्रेष्ठ</td>\n",
       "      <td>पुरुष</td>\n",
       "      <td>45</td>\n",
       "      <td>स्वतन्त्र</td>\n",
       "      <td>तनहुँ</td>\n",
       "      <td>1</td>\n",
       "      <td>17.0</td>\n",
       "      <td>NaN</td>\n",
       "      <td>11</td>\n",
       "    </tr>\n",
       "  </tbody>\n",
       "</table>\n",
       "</div>"
      ],
      "text/plain": [
       "    SerialNo  StateID         CandidateName Gender  Age  \\\n",
       "6       1352        4    सुन्दर लाल श्रेष्ठ  पुरुष   54   \n",
       "7       1353        4    दुर्गा बहादुर थापा  पुरुष   37   \n",
       "8       1354        4  बुद्धी बहादुर जि.सी.  पुरुष   68   \n",
       "9       1355        4      मिन बहादुर गुरुङ  पुरुष   27   \n",
       "10      1356        4    रेशम कुमार श्रेष्ठ  पुरुष   45   \n",
       "\n",
       "                       PoliticalPartyName DistrictName  CenterConstID  \\\n",
       "6      देशभक्त जनगणतान्त्रिक मोर्चा नेपाल        तनहुँ              1   \n",
       "7                               स्वतन्त्र        तनहुँ              1   \n",
       "8   नेपाल कम्युनिष्ट पार्टी (माक्र्सवादी)        तनहुँ              1   \n",
       "9                 मंगोल नेशनल अर्गनाइजेसन        तनहुँ              1   \n",
       "10                              स्वतन्त्र        तनहुँ              1   \n",
       "\n",
       "    TotalVotesReceived EStatus  Rank  \n",
       "6                  NaN     NaN     7  \n",
       "7                 52.0     NaN     8  \n",
       "8                 40.0     NaN     9  \n",
       "9                 34.0     NaN    10  \n",
       "10                17.0     NaN    11  "
      ]
     },
     "execution_count": 24,
     "metadata": {},
     "output_type": "execute_result"
    }
   ],
   "source": [
    "central_tanahun.tail()"
   ]
  },
  {
   "cell_type": "code",
   "execution_count": 39,
   "id": "62421695",
   "metadata": {},
   "outputs": [
    {
     "data": {
      "text/plain": [
       "SerialNo                int64\n",
       "StateID                 int64\n",
       "CandidateName          object\n",
       "Gender                 object\n",
       "Age                     int64\n",
       "PoliticalPartyName     object\n",
       "DistrictName           object\n",
       "CenterConstID           int64\n",
       "TotalVotesReceived    float64\n",
       "EStatus                object\n",
       "Rank                    int64\n",
       "dtype: object"
      ]
     },
     "execution_count": 39,
     "metadata": {},
     "output_type": "execute_result"
    }
   ],
   "source": [
    "central_tanahun.dtypes"
   ]
  },
  {
   "cell_type": "code",
   "execution_count": 22,
   "id": "706e545f",
   "metadata": {},
   "outputs": [],
   "source": [
    "#central_tanahun.describe()"
   ]
  },
  {
   "cell_type": "code",
   "execution_count": 20,
   "id": "0c91657b",
   "metadata": {},
   "outputs": [],
   "source": [
    "central_tanahun_2 =pd.read_csv(\"Datathon Final dataset/Central election 2074/गण्डकी प्रदेश/तनहुँ/2.csv\")"
   ]
  },
  {
   "cell_type": "code",
   "execution_count": 21,
   "id": "3245fcef",
   "metadata": {},
   "outputs": [
    {
     "data": {
      "text/html": [
       "<div>\n",
       "<style scoped>\n",
       "    .dataframe tbody tr th:only-of-type {\n",
       "        vertical-align: middle;\n",
       "    }\n",
       "\n",
       "    .dataframe tbody tr th {\n",
       "        vertical-align: top;\n",
       "    }\n",
       "\n",
       "    .dataframe thead th {\n",
       "        text-align: right;\n",
       "    }\n",
       "</style>\n",
       "<table border=\"1\" class=\"dataframe\">\n",
       "  <thead>\n",
       "    <tr style=\"text-align: right;\">\n",
       "      <th></th>\n",
       "      <th>SerialNo</th>\n",
       "      <th>StateID</th>\n",
       "      <th>CandidateName</th>\n",
       "      <th>Gender</th>\n",
       "      <th>Age</th>\n",
       "      <th>PoliticalPartyName</th>\n",
       "      <th>DistrictName</th>\n",
       "      <th>CenterConstID</th>\n",
       "      <th>TotalVotesReceived</th>\n",
       "      <th>EStatus</th>\n",
       "      <th>Rank</th>\n",
       "    </tr>\n",
       "  </thead>\n",
       "  <tbody>\n",
       "    <tr>\n",
       "      <th>0</th>\n",
       "      <td>1357</td>\n",
       "      <td>4</td>\n",
       "      <td>केदार सिग्देल</td>\n",
       "      <td>पुरुष</td>\n",
       "      <td>54</td>\n",
       "      <td>नेपाल कम्युनिष्ट पार्टी (एमाले)</td>\n",
       "      <td>तनहुँ</td>\n",
       "      <td>2</td>\n",
       "      <td>32924</td>\n",
       "      <td>Elected</td>\n",
       "      <td>1</td>\n",
       "    </tr>\n",
       "    <tr>\n",
       "      <th>1</th>\n",
       "      <td>1358</td>\n",
       "      <td>4</td>\n",
       "      <td>शंकर भण्डारी</td>\n",
       "      <td>पुरुष</td>\n",
       "      <td>490</td>\n",
       "      <td>नेपाली काँग्रेस</td>\n",
       "      <td>तनहुँ</td>\n",
       "      <td>2</td>\n",
       "      <td>29645</td>\n",
       "      <td>NaN</td>\n",
       "      <td>2</td>\n",
       "    </tr>\n",
       "    <tr>\n",
       "      <th>2</th>\n",
       "      <td>1359</td>\n",
       "      <td>4</td>\n",
       "      <td>जित बहादुर परियार</td>\n",
       "      <td>पुरुष</td>\n",
       "      <td>56</td>\n",
       "      <td>नेपाल कम्युनिष्ट पार्टी (माले)</td>\n",
       "      <td>तनहुँ</td>\n",
       "      <td>2</td>\n",
       "      <td>1168</td>\n",
       "      <td>NaN</td>\n",
       "      <td>3</td>\n",
       "    </tr>\n",
       "    <tr>\n",
       "      <th>3</th>\n",
       "      <td>1360</td>\n",
       "      <td>4</td>\n",
       "      <td>पुर्ण बहादुर राना</td>\n",
       "      <td>पुरुष</td>\n",
       "      <td>38</td>\n",
       "      <td>राष्ट्रिय जनमुक्ति पार्टी</td>\n",
       "      <td>तनहुँ</td>\n",
       "      <td>2</td>\n",
       "      <td>800</td>\n",
       "      <td>NaN</td>\n",
       "      <td>4</td>\n",
       "    </tr>\n",
       "    <tr>\n",
       "      <th>4</th>\n",
       "      <td>1361</td>\n",
       "      <td>4</td>\n",
       "      <td>कृष्ण राज घिमिरे</td>\n",
       "      <td>पुरुष</td>\n",
       "      <td>59</td>\n",
       "      <td>नयाँ शक्ति पार्टी नेपाल</td>\n",
       "      <td>तनहुँ</td>\n",
       "      <td>2</td>\n",
       "      <td>206</td>\n",
       "      <td>NaN</td>\n",
       "      <td>5</td>\n",
       "    </tr>\n",
       "  </tbody>\n",
       "</table>\n",
       "</div>"
      ],
      "text/plain": [
       "   SerialNo  StateID      CandidateName Gender  Age  \\\n",
       "0      1357        4      केदार सिग्देल  पुरुष   54   \n",
       "1      1358        4       शंकर भण्डारी  पुरुष  490   \n",
       "2      1359        4  जित बहादुर परियार  पुरुष   56   \n",
       "3      1360        4  पुर्ण बहादुर राना  पुरुष   38   \n",
       "4      1361        4   कृष्ण राज घिमिरे  पुरुष   59   \n",
       "\n",
       "                PoliticalPartyName DistrictName  CenterConstID  \\\n",
       "0  नेपाल कम्युनिष्ट पार्टी (एमाले)        तनहुँ              2   \n",
       "1                  नेपाली काँग्रेस        तनहुँ              2   \n",
       "2  नेपाल कम्युनिष्ट पार्टी (माले)         तनहुँ              2   \n",
       "3        राष्ट्रिय जनमुक्ति पार्टी        तनहुँ              2   \n",
       "4          नयाँ शक्ति पार्टी नेपाल        तनहुँ              2   \n",
       "\n",
       "   TotalVotesReceived  EStatus  Rank  \n",
       "0               32924  Elected     1  \n",
       "1               29645      NaN     2  \n",
       "2                1168      NaN     3  \n",
       "3                 800      NaN     4  \n",
       "4                 206      NaN     5  "
      ]
     },
     "execution_count": 21,
     "metadata": {},
     "output_type": "execute_result"
    }
   ],
   "source": [
    "central_tanahun_2.head()"
   ]
  },
  {
   "cell_type": "code",
   "execution_count": 25,
   "id": "e1012d30",
   "metadata": {},
   "outputs": [],
   "source": [
    "\n",
    "# concatenating df1 and df2 along rows\n",
    "tanahun = pd.concat([central_tanahun, central_tanahun_2], axis=0)"
   ]
  },
  {
   "cell_type": "code",
   "execution_count": 26,
   "id": "cfeb6853",
   "metadata": {},
   "outputs": [
    {
     "data": {
      "text/html": [
       "<div>\n",
       "<style scoped>\n",
       "    .dataframe tbody tr th:only-of-type {\n",
       "        vertical-align: middle;\n",
       "    }\n",
       "\n",
       "    .dataframe tbody tr th {\n",
       "        vertical-align: top;\n",
       "    }\n",
       "\n",
       "    .dataframe thead th {\n",
       "        text-align: right;\n",
       "    }\n",
       "</style>\n",
       "<table border=\"1\" class=\"dataframe\">\n",
       "  <thead>\n",
       "    <tr style=\"text-align: right;\">\n",
       "      <th></th>\n",
       "      <th>SerialNo</th>\n",
       "      <th>StateID</th>\n",
       "      <th>CandidateName</th>\n",
       "      <th>Gender</th>\n",
       "      <th>Age</th>\n",
       "      <th>PoliticalPartyName</th>\n",
       "      <th>DistrictName</th>\n",
       "      <th>CenterConstID</th>\n",
       "      <th>TotalVotesReceived</th>\n",
       "      <th>EStatus</th>\n",
       "      <th>Rank</th>\n",
       "    </tr>\n",
       "  </thead>\n",
       "  <tbody>\n",
       "    <tr>\n",
       "      <th>0</th>\n",
       "      <td>1346</td>\n",
       "      <td>4</td>\n",
       "      <td>कृष्ण कुमार श्रेष्ठ</td>\n",
       "      <td>पुरुष</td>\n",
       "      <td>49</td>\n",
       "      <td>नेपाल कम्युनिष्ट पार्टी (एमाले)</td>\n",
       "      <td>तनहुँ</td>\n",
       "      <td>1</td>\n",
       "      <td>34492.0</td>\n",
       "      <td>Elected</td>\n",
       "      <td>1</td>\n",
       "    </tr>\n",
       "    <tr>\n",
       "      <th>1</th>\n",
       "      <td>1347</td>\n",
       "      <td>4</td>\n",
       "      <td>रामचन्द्र पौडेल</td>\n",
       "      <td>पुरुष</td>\n",
       "      <td>73</td>\n",
       "      <td>नेपाली काँग्रेस</td>\n",
       "      <td>तनहुँ</td>\n",
       "      <td>1</td>\n",
       "      <td>27690.0</td>\n",
       "      <td>NaN</td>\n",
       "      <td>2</td>\n",
       "    </tr>\n",
       "    <tr>\n",
       "      <th>2</th>\n",
       "      <td>1348</td>\n",
       "      <td>4</td>\n",
       "      <td>मान बहादुर थापा</td>\n",
       "      <td>पुरुष</td>\n",
       "      <td>51</td>\n",
       "      <td>नेपाल कम्युनिष्ट पार्टी (माले)</td>\n",
       "      <td>तनहुँ</td>\n",
       "      <td>1</td>\n",
       "      <td>1231.0</td>\n",
       "      <td>NaN</td>\n",
       "      <td>3</td>\n",
       "    </tr>\n",
       "    <tr>\n",
       "      <th>3</th>\n",
       "      <td>1349</td>\n",
       "      <td>4</td>\n",
       "      <td>हस्त बहादुर किचिम थापा</td>\n",
       "      <td>पुरुष</td>\n",
       "      <td>800</td>\n",
       "      <td>राष्ट्रिय जनमुक्ति पार्टी</td>\n",
       "      <td>तनहुँ</td>\n",
       "      <td>1</td>\n",
       "      <td>457.0</td>\n",
       "      <td>NaN</td>\n",
       "      <td>4</td>\n",
       "    </tr>\n",
       "    <tr>\n",
       "      <th>4</th>\n",
       "      <td>1350</td>\n",
       "      <td>4</td>\n",
       "      <td>चेत मणि पाण्डेय</td>\n",
       "      <td>पुरुष</td>\n",
       "      <td>59</td>\n",
       "      <td>एकीकृत राष्ट्रिय प्रजातन्त्र पार्टी(राष्ट्रवादी)</td>\n",
       "      <td>तनहुँ</td>\n",
       "      <td>1</td>\n",
       "      <td>198.0</td>\n",
       "      <td>NaN</td>\n",
       "      <td>5</td>\n",
       "    </tr>\n",
       "  </tbody>\n",
       "</table>\n",
       "</div>"
      ],
      "text/plain": [
       "   SerialNo  StateID           CandidateName Gender  Age  \\\n",
       "0      1346        4     कृष्ण कुमार श्रेष्ठ  पुरुष   49   \n",
       "1      1347        4         रामचन्द्र पौडेल  पुरुष   73   \n",
       "2      1348        4         मान बहादुर थापा  पुरुष   51   \n",
       "3      1349        4  हस्त बहादुर किचिम थापा  पुरुष  800   \n",
       "4      1350        4         चेत मणि पाण्डेय  पुरुष   59   \n",
       "\n",
       "                                 PoliticalPartyName DistrictName  \\\n",
       "0                   नेपाल कम्युनिष्ट पार्टी (एमाले)        तनहुँ   \n",
       "1                                   नेपाली काँग्रेस        तनहुँ   \n",
       "2                   नेपाल कम्युनिष्ट पार्टी (माले)         तनहुँ   \n",
       "3                         राष्ट्रिय जनमुक्ति पार्टी        तनहुँ   \n",
       "4  एकीकृत राष्ट्रिय प्रजातन्त्र पार्टी(राष्ट्रवादी)        तनहुँ   \n",
       "\n",
       "   CenterConstID  TotalVotesReceived  EStatus  Rank  \n",
       "0              1             34492.0  Elected     1  \n",
       "1              1             27690.0      NaN     2  \n",
       "2              1              1231.0      NaN     3  \n",
       "3              1               457.0      NaN     4  \n",
       "4              1               198.0      NaN     5  "
      ]
     },
     "execution_count": 26,
     "metadata": {},
     "output_type": "execute_result"
    }
   ],
   "source": [
    "tanahun.head()"
   ]
  },
  {
   "cell_type": "code",
   "execution_count": 27,
   "id": "589e9cf2",
   "metadata": {},
   "outputs": [
    {
     "data": {
      "text/plain": [
       "21"
      ]
     },
     "execution_count": 27,
     "metadata": {},
     "output_type": "execute_result"
    }
   ],
   "source": [
    "len(tanahun)"
   ]
  },
  {
   "cell_type": "code",
   "execution_count": 28,
   "id": "47e02a3e",
   "metadata": {},
   "outputs": [],
   "source": [
    "Elected_candidates = {}"
   ]
  },
  {
   "cell_type": "code",
   "execution_count": 34,
   "id": "4f69b18e",
   "metadata": {},
   "outputs": [],
   "source": [
    "#if (central_tanahun_2['EStatus'] == 'Elected'):\n",
    "    #Elected_candidates['WON'] == \n",
    "    \n",
    "    #thisdict[\"color\"] = \"red\""
   ]
  },
  {
   "cell_type": "code",
   "execution_count": 35,
   "id": "1fb35723",
   "metadata": {},
   "outputs": [
    {
     "data": {
      "text/plain": [
       "SerialNo               0\n",
       "StateID                0\n",
       "CandidateName          0\n",
       "Gender                 1\n",
       "Age                    0\n",
       "PoliticalPartyName     0\n",
       "DistrictName           0\n",
       "CenterConstID          0\n",
       "TotalVotesReceived     1\n",
       "EStatus               19\n",
       "Rank                   0\n",
       "dtype: int64"
      ]
     },
     "execution_count": 35,
     "metadata": {},
     "output_type": "execute_result"
    }
   ],
   "source": [
    "tanahun.isna().sum()"
   ]
  },
  {
   "cell_type": "code",
   "execution_count": 36,
   "id": "5d4fa370",
   "metadata": {},
   "outputs": [
    {
     "data": {
      "text/plain": [
       "नेपाल कम्युनिष्ट पार्टी (एमाले)                     2\n",
       "नेपाली काँग्रेस                                     2\n",
       "नेपाल कम्युनिष्ट पार्टी (माले)                      2\n",
       "राष्ट्रिय जनमुक्ति पार्टी                           2\n",
       "एकीकृत राष्ट्रिय प्रजातन्त्र पार्टी(राष्ट्रवादी)    2\n",
       "राष्ट्रिय जनमोर्चा                                  2\n",
       "देशभक्त जनगणतान्त्रिक मोर्चा नेपाल                  2\n",
       "स्वतन्त्र                                           2\n",
       "मंगोल नेशनल अर्गनाइजेसन                             2\n",
       "नेपाल कम्युनिष्ट पार्टी (माक्र्सवादी)               1\n",
       "नयाँ शक्ति पार्टी नेपाल                             1\n",
       "नेपाली कांग्रेस (बी.पी.)                            1\n",
       "Name: PoliticalPartyName, dtype: int64"
      ]
     },
     "execution_count": 36,
     "metadata": {},
     "output_type": "execute_result"
    }
   ],
   "source": [
    "# Check the different values of different colum\n",
    "tanahun.PoliticalPartyName.value_counts()"
   ]
  },
  {
   "cell_type": "code",
   "execution_count": 43,
   "id": "458a5017",
   "metadata": {},
   "outputs": [
    {
     "data": {
      "text/plain": [
       "<matplotlib.collections.PathCollection at 0x275201599a0>"
      ]
     },
     "execution_count": 43,
     "metadata": {},
     "output_type": "execute_result"
    },
    {
     "data": {
      "image/png": "[encoded data removed]",
      "text/plain": [
       "<Figure size 640x480 with 1 Axes>"
      ]
     },
     "metadata": {},
     "output_type": "display_data"
    }
   ],
   "source": [
    "fig, ax = plt.subplots()\n",
    "ax.scatter(tanahun['StateID'], tanahun['Age'])"
   ]
  },
  {
   "cell_type": "code",
   "execution_count": 44,
   "id": "26153ec0",
   "metadata": {},
   "outputs": [
    {
     "data": {
      "text/plain": [
       "0      49\n",
       "1      73\n",
       "2      51\n",
       "3     800\n",
       "4      59\n",
       "5      44\n",
       "6      54\n",
       "7      37\n",
       "8      68\n",
       "9      27\n",
       "10     45\n",
       "0      54\n",
       "1     490\n",
       "2      56\n",
       "3      38\n",
       "4      59\n",
       "5      62\n",
       "6      44\n",
       "7      36\n",
       "8      51\n",
       "9      57\n",
       "Name: Age, dtype: int64"
      ]
     },
     "execution_count": 44,
     "metadata": {},
     "output_type": "execute_result"
    }
   ],
   "source": [
    "tanahun['Age']"
   ]
  },
  {
   "cell_type": "code",
   "execution_count": 45,
   "id": "7e216924",
   "metadata": {},
   "outputs": [],
   "source": [
    "tanahun = tanahun[tanahun.Age <100]\n",
    "#df = df[df.rebounds != 7]"
   ]
  },
  {
   "cell_type": "code",
   "execution_count": 46,
   "id": "82c2e8b6",
   "metadata": {},
   "outputs": [
    {
     "data": {
      "text/plain": [
       "0     49\n",
       "1     73\n",
       "2     51\n",
       "4     59\n",
       "5     44\n",
       "6     54\n",
       "7     37\n",
       "8     68\n",
       "9     27\n",
       "10    45\n",
       "0     54\n",
       "2     56\n",
       "3     38\n",
       "4     59\n",
       "5     62\n",
       "6     44\n",
       "7     36\n",
       "8     51\n",
       "9     57\n",
       "Name: Age, dtype: int64"
      ]
     },
     "execution_count": 46,
     "metadata": {},
     "output_type": "execute_result"
    }
   ],
   "source": [
    "tanahun[\"Age\"]"
   ]
  },
  {
   "cell_type": "code",
   "execution_count": 47,
   "id": "f8c7cfaf",
   "metadata": {},
   "outputs": [
    {
     "data": {
      "text/html": [
       "<div>\n",
       "<style scoped>\n",
       "    .dataframe tbody tr th:only-of-type {\n",
       "        vertical-align: middle;\n",
       "    }\n",
       "\n",
       "    .dataframe tbody tr th {\n",
       "        vertical-align: top;\n",
       "    }\n",
       "\n",
       "    .dataframe thead th {\n",
       "        text-align: right;\n",
       "    }\n",
       "</style>\n",
       "<table border=\"1\" class=\"dataframe\">\n",
       "  <thead>\n",
       "    <tr style=\"text-align: right;\">\n",
       "      <th></th>\n",
       "      <th>SerialNo</th>\n",
       "      <th>StateID</th>\n",
       "      <th>CandidateName</th>\n",
       "      <th>Gender</th>\n",
       "      <th>Age</th>\n",
       "      <th>PoliticalPartyName</th>\n",
       "      <th>DistrictName</th>\n",
       "      <th>CenterConstID</th>\n",
       "      <th>TotalVotesReceived</th>\n",
       "      <th>EStatus</th>\n",
       "      <th>Rank</th>\n",
       "    </tr>\n",
       "  </thead>\n",
       "  <tbody>\n",
       "    <tr>\n",
       "      <th>0</th>\n",
       "      <td>1346</td>\n",
       "      <td>4</td>\n",
       "      <td>कृष्ण कुमार श्रेष्ठ</td>\n",
       "      <td>पुरुष</td>\n",
       "      <td>49</td>\n",
       "      <td>नेपाल कम्युनिष्ट पार्टी (एमाले)</td>\n",
       "      <td>तनहुँ</td>\n",
       "      <td>1</td>\n",
       "      <td>34492.0</td>\n",
       "      <td>Elected</td>\n",
       "      <td>1</td>\n",
       "    </tr>\n",
       "    <tr>\n",
       "      <th>1</th>\n",
       "      <td>1347</td>\n",
       "      <td>4</td>\n",
       "      <td>रामचन्द्र पौडेल</td>\n",
       "      <td>पुरुष</td>\n",
       "      <td>73</td>\n",
       "      <td>नेपाली काँग्रेस</td>\n",
       "      <td>तनहुँ</td>\n",
       "      <td>1</td>\n",
       "      <td>27690.0</td>\n",
       "      <td>NaN</td>\n",
       "      <td>2</td>\n",
       "    </tr>\n",
       "    <tr>\n",
       "      <th>2</th>\n",
       "      <td>1348</td>\n",
       "      <td>4</td>\n",
       "      <td>मान बहादुर थापा</td>\n",
       "      <td>पुरुष</td>\n",
       "      <td>51</td>\n",
       "      <td>नेपाल कम्युनिष्ट पार्टी (माले)</td>\n",
       "      <td>तनहुँ</td>\n",
       "      <td>1</td>\n",
       "      <td>1231.0</td>\n",
       "      <td>NaN</td>\n",
       "      <td>3</td>\n",
       "    </tr>\n",
       "    <tr>\n",
       "      <th>4</th>\n",
       "      <td>1350</td>\n",
       "      <td>4</td>\n",
       "      <td>चेत मणि पाण्डेय</td>\n",
       "      <td>पुरुष</td>\n",
       "      <td>59</td>\n",
       "      <td>एकीकृत राष्ट्रिय प्रजातन्त्र पार्टी(राष्ट्रवादी)</td>\n",
       "      <td>तनहुँ</td>\n",
       "      <td>1</td>\n",
       "      <td>198.0</td>\n",
       "      <td>NaN</td>\n",
       "      <td>5</td>\n",
       "    </tr>\n",
       "    <tr>\n",
       "      <th>5</th>\n",
       "      <td>1351</td>\n",
       "      <td>4</td>\n",
       "      <td>श्री कुमार श्रेष्ठ</td>\n",
       "      <td>पुरुष</td>\n",
       "      <td>44</td>\n",
       "      <td>राष्ट्रिय जनमोर्चा</td>\n",
       "      <td>तनहुँ</td>\n",
       "      <td>1</td>\n",
       "      <td>67.0</td>\n",
       "      <td>NaN</td>\n",
       "      <td>6</td>\n",
       "    </tr>\n",
       "  </tbody>\n",
       "</table>\n",
       "</div>"
      ],
      "text/plain": [
       "   SerialNo  StateID        CandidateName Gender  Age  \\\n",
       "0      1346        4  कृष्ण कुमार श्रेष्ठ  पुरुष   49   \n",
       "1      1347        4      रामचन्द्र पौडेल  पुरुष   73   \n",
       "2      1348        4      मान बहादुर थापा  पुरुष   51   \n",
       "4      1350        4      चेत मणि पाण्डेय  पुरुष   59   \n",
       "5      1351        4   श्री कुमार श्रेष्ठ  पुरुष   44   \n",
       "\n",
       "                                 PoliticalPartyName DistrictName  \\\n",
       "0                   नेपाल कम्युनिष्ट पार्टी (एमाले)        तनहुँ   \n",
       "1                                   नेपाली काँग्रेस        तनहुँ   \n",
       "2                   नेपाल कम्युनिष्ट पार्टी (माले)         तनहुँ   \n",
       "4  एकीकृत राष्ट्रिय प्रजातन्त्र पार्टी(राष्ट्रवादी)        तनहुँ   \n",
       "5                                राष्ट्रिय जनमोर्चा        तनहुँ   \n",
       "\n",
       "   CenterConstID  TotalVotesReceived  EStatus  Rank  \n",
       "0              1             34492.0  Elected     1  \n",
       "1              1             27690.0      NaN     2  \n",
       "2              1              1231.0      NaN     3  \n",
       "4              1               198.0      NaN     5  \n",
       "5              1                67.0      NaN     6  "
      ]
     },
     "execution_count": 47,
     "metadata": {},
     "output_type": "execute_result"
    }
   ],
   "source": [
    "tanahun.head()"
   ]
  },
  {
   "cell_type": "code",
   "execution_count": 51,
   "id": "b572b4db",
   "metadata": {},
   "outputs": [
    {
     "data": {
      "text/plain": [
       "पुरुष    18\n",
       "Name: Gender, dtype: int64"
      ]
     },
     "execution_count": 51,
     "metadata": {},
     "output_type": "execute_result"
    }
   ],
   "source": [
    "tanahun.Gender.value_counts()"
   ]
  },
  {
   "cell_type": "code",
   "execution_count": 55,
   "id": "ce10ed79",
   "metadata": {},
   "outputs": [
    {
     "data": {
      "text/plain": [
       "Index(['SerialNo', 'StateID', 'CandidateName', 'Gender', 'Age',\n",
       "       'PoliticalPartyName', 'DistrictName', 'CenterConstID',\n",
       "       'TotalVotesReceived', 'EStatus', 'Rank'],\n",
       "      dtype='object')"
      ]
     },
     "execution_count": 55,
     "metadata": {},
     "output_type": "execute_result"
    }
   ],
   "source": [
    "tanahun.columns"
   ]
  },
  {
   "cell_type": "code",
   "execution_count": 76,
   "id": "61b10862",
   "metadata": {},
   "outputs": [
    {
     "data": {
      "text/plain": [
       "\"y = np.array(tanahun['TotalVotesReceived'])\\nmylabels = list(tanahun['PoliticalPartyName'])\\nprint(len(y))\\nlen(mylabels)\\n#type(y)\\nplt.pie(y, labels = mylabels)\\nplt.show() \""
      ]
     },
     "execution_count": 76,
     "metadata": {},
     "output_type": "execute_result"
    }
   ],
   "source": [
    "'''y = np.array(tanahun['TotalVotesReceived'])\n",
    "mylabels = list(tanahun['PoliticalPartyName'])\n",
    "print(len(y))\n",
    "len(mylabels)\n",
    "#type(y)\n",
    "plt.pie(y, labels = mylabels)\n",
    "plt.show() '''"
   ]
  },
  {
   "cell_type": "code",
   "execution_count": 71,
   "id": "8f171010",
   "metadata": {},
   "outputs": [
    {
     "data": {
      "text/plain": [
       "list"
      ]
     },
     "execution_count": 71,
     "metadata": {},
     "output_type": "execute_result"
    }
   ],
   "source": [
    "y = np.array([35, 25, 25, 15])\n",
    "mylabels = [\"Apples\", \"Bananas\", \"Cherries\", \"Dates\"]\n",
    "type(mylabels)\n",
    "#type(y)\n",
    "#plt.pie(y, labels = mylabels)\n",
    "#plt.show() "
   ]
  },
  {
   "cell_type": "code",
   "execution_count": null,
   "id": "301eea96",
   "metadata": {},
   "outputs": [],
   "source": []
  }
 ],
 "metadata": {
  "kernelspec": {
   "display_name": "Python 3 (ipykernel)",
   "language": "python",
   "name": "python3"
  },
  "language_info": {
   "codemirror_mode": {
    "name": "ipython",
    "version": 3
   },
   "file_extension": ".py",
   "mimetype": "text/x-python",
   "name": "python",
   "nbconvert_exporter": "python",
   "pygments_lexer": "ipython3",
   "version": "3.9.13"
  }
 },
 "nbformat": 4,
 "nbformat_minor": 5
}
