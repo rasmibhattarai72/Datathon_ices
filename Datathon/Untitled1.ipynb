{
 "cells": [
  {
   "cell_type": "code",
   "execution_count": 1,
   "id": "16c48759",
   "metadata": {},
   "outputs": [],
   "source": [
    "import pandas as pd\n",
    "import numpy as np\n",
    "import matplotlib.pyplot as plt"
   ]
  },
  {
   "cell_type": "code",
   "execution_count": 2,
   "id": "035cf3a6",
   "metadata": {},
   "outputs": [],
   "source": [
    "kaski_1_A = pd.read_csv(\"Datathon Final dataset/state election 2074/गण्डकी प्रदेश/कास्की/१/A.csv\")"
   ]
  },
  {
   "cell_type": "code",
   "execution_count": 3,
   "id": "c8301d7c",
   "metadata": {},
   "outputs": [
    {
     "data": {
      "text/html": [
       "<div>\n",
       "<style scoped>\n",
       "    .dataframe tbody tr th:only-of-type {\n",
       "        vertical-align: middle;\n",
       "    }\n",
       "\n",
       "    .dataframe tbody tr th {\n",
       "        vertical-align: top;\n",
       "    }\n",
       "\n",
       "    .dataframe thead th {\n",
       "        text-align: right;\n",
       "    }\n",
       "</style>\n",
       "<table border=\"1\" class=\"dataframe\">\n",
       "  <thead>\n",
       "    <tr style=\"text-align: right;\">\n",
       "      <th></th>\n",
       "      <th>SerialNo</th>\n",
       "      <th>StateID</th>\n",
       "      <th>CandidateName</th>\n",
       "      <th>Gender</th>\n",
       "      <th>Age</th>\n",
       "      <th>PoliticalPartyName</th>\n",
       "      <th>DistrictName</th>\n",
       "      <th>CenterConstID</th>\n",
       "      <th>SCConstID</th>\n",
       "      <th>TotalVotesReceived</th>\n",
       "      <th>EStatus</th>\n",
       "      <th>Rank</th>\n",
       "    </tr>\n",
       "  </thead>\n",
       "  <tbody>\n",
       "    <tr>\n",
       "      <th>0</th>\n",
       "      <td>2126</td>\n",
       "      <td>4</td>\n",
       "      <td>दिपक कोइराला</td>\n",
       "      <td>पुरुष</td>\n",
       "      <td>39</td>\n",
       "      <td>नेपाल कम्युनिष्ट पार्टी (माओवादी केन्द्र)</td>\n",
       "      <td>कास्की</td>\n",
       "      <td>1.0</td>\n",
       "      <td>1</td>\n",
       "      <td>18727</td>\n",
       "      <td>Elected</td>\n",
       "      <td>1</td>\n",
       "    </tr>\n",
       "    <tr>\n",
       "      <th>1</th>\n",
       "      <td>2127</td>\n",
       "      <td>4</td>\n",
       "      <td>जीवन परियार</td>\n",
       "      <td>पुरुष</td>\n",
       "      <td>42</td>\n",
       "      <td>नेपाली काँग्रेस</td>\n",
       "      <td>कास्की</td>\n",
       "      <td>1.0</td>\n",
       "      <td>1</td>\n",
       "      <td>15081</td>\n",
       "      <td>NaN</td>\n",
       "      <td>2</td>\n",
       "    </tr>\n",
       "    <tr>\n",
       "      <th>2</th>\n",
       "      <td>2128</td>\n",
       "      <td>4</td>\n",
       "      <td>देउ बहादुर गुरुङ्ग</td>\n",
       "      <td>पुरुष</td>\n",
       "      <td>43</td>\n",
       "      <td>राष्ट्रिय प्रजातन्त्र पार्टी</td>\n",
       "      <td>कास्की</td>\n",
       "      <td>1.0</td>\n",
       "      <td>1</td>\n",
       "      <td>697</td>\n",
       "      <td>NaN</td>\n",
       "      <td>3</td>\n",
       "    </tr>\n",
       "    <tr>\n",
       "      <th>3</th>\n",
       "      <td>2129</td>\n",
       "      <td>4</td>\n",
       "      <td>नवराज खनाल</td>\n",
       "      <td>पुरुष</td>\n",
       "      <td>34</td>\n",
       "      <td>विवेकशील साझा पार्टी</td>\n",
       "      <td>कास्की</td>\n",
       "      <td>1.0</td>\n",
       "      <td>1</td>\n",
       "      <td>475</td>\n",
       "      <td>NaN</td>\n",
       "      <td>4</td>\n",
       "    </tr>\n",
       "    <tr>\n",
       "      <th>4</th>\n",
       "      <td>2130</td>\n",
       "      <td>4</td>\n",
       "      <td>विर बहादुर गुरुङ्ग</td>\n",
       "      <td>पुरुष</td>\n",
       "      <td>57</td>\n",
       "      <td>संघीय समाजवादी फोरम नेपाल</td>\n",
       "      <td>कास्की</td>\n",
       "      <td>1.0</td>\n",
       "      <td>1</td>\n",
       "      <td>463</td>\n",
       "      <td>NaN</td>\n",
       "      <td>5</td>\n",
       "    </tr>\n",
       "  </tbody>\n",
       "</table>\n",
       "</div>"
      ],
      "text/plain": [
       "   SerialNo  StateID       CandidateName Gender  Age  \\\n",
       "0      2126        4        दिपक कोइराला  पुरुष   39   \n",
       "1      2127        4         जीवन परियार  पुरुष   42   \n",
       "2      2128        4  देउ बहादुर गुरुङ्ग  पुरुष   43   \n",
       "3      2129        4          नवराज खनाल  पुरुष   34   \n",
       "4      2130        4  विर बहादुर गुरुङ्ग  पुरुष   57   \n",
       "\n",
       "                          PoliticalPartyName DistrictName  CenterConstID  \\\n",
       "0  नेपाल कम्युनिष्ट पार्टी (माओवादी केन्द्र)       कास्की            1.0   \n",
       "1                            नेपाली काँग्रेस       कास्की            1.0   \n",
       "2               राष्ट्रिय प्रजातन्त्र पार्टी       कास्की            1.0   \n",
       "3                       विवेकशील साझा पार्टी       कास्की            1.0   \n",
       "4                  संघीय समाजवादी फोरम नेपाल       कास्की            1.0   \n",
       "\n",
       "   SCConstID  TotalVotesReceived  EStatus  Rank  \n",
       "0          1               18727  Elected     1  \n",
       "1          1               15081      NaN     2  \n",
       "2          1                 697      NaN     3  \n",
       "3          1                 475      NaN     4  \n",
       "4          1                 463      NaN     5  "
      ]
     },
     "execution_count": 3,
     "metadata": {},
     "output_type": "execute_result"
    }
   ],
   "source": [
    "kaski_1_A.head()"
   ]
  },
  {
   "cell_type": "code",
   "execution_count": 4,
   "id": "21ee6714",
   "metadata": {},
   "outputs": [
    {
     "data": {
      "text/plain": [
       "SerialNo               0\n",
       "StateID                0\n",
       "CandidateName          0\n",
       "Gender                 0\n",
       "Age                    0\n",
       "PoliticalPartyName     0\n",
       "DistrictName           0\n",
       "CenterConstID          1\n",
       "SCConstID              0\n",
       "TotalVotesReceived     0\n",
       "EStatus               12\n",
       "Rank                   0\n",
       "dtype: int64"
      ]
     },
     "execution_count": 4,
     "metadata": {},
     "output_type": "execute_result"
    }
   ],
   "source": [
    "kaski_1_A.isna().sum()"
   ]
  },
  {
   "cell_type": "code",
   "execution_count": 5,
   "id": "59630db4",
   "metadata": {},
   "outputs": [],
   "source": [
    "#Lets replace nan value in EStatus column by NotElected\n",
    "kaski_1_A['EStatus'].replace(np.nan, 'Not_Elected',inplace  = True)"
   ]
  },
  {
   "cell_type": "code",
   "execution_count": 6,
   "id": "da16ab13",
   "metadata": {},
   "outputs": [
    {
     "data": {
      "text/plain": [
       "SerialNo              0\n",
       "StateID               0\n",
       "CandidateName         0\n",
       "Gender                0\n",
       "Age                   0\n",
       "PoliticalPartyName    0\n",
       "DistrictName          0\n",
       "CenterConstID         1\n",
       "SCConstID             0\n",
       "TotalVotesReceived    0\n",
       "EStatus               0\n",
       "Rank                  0\n",
       "dtype: int64"
      ]
     },
     "execution_count": 6,
     "metadata": {},
     "output_type": "execute_result"
    }
   ],
   "source": [
    "kaski_1_A.isna().sum()"
   ]
  },
  {
   "cell_type": "code",
   "execution_count": 7,
   "id": "644ea848",
   "metadata": {},
   "outputs": [],
   "source": [
    "kaski_1_A.dropna(axis = 0, inplace=True)"
   ]
  },
  {
   "cell_type": "code",
   "execution_count": 8,
   "id": "9461edf4",
   "metadata": {},
   "outputs": [
    {
     "data": {
      "text/plain": [
       "SerialNo              0\n",
       "StateID               0\n",
       "CandidateName         0\n",
       "Gender                0\n",
       "Age                   0\n",
       "PoliticalPartyName    0\n",
       "DistrictName          0\n",
       "CenterConstID         0\n",
       "SCConstID             0\n",
       "TotalVotesReceived    0\n",
       "EStatus               0\n",
       "Rank                  0\n",
       "dtype: int64"
      ]
     },
     "execution_count": 8,
     "metadata": {},
     "output_type": "execute_result"
    }
   ],
   "source": [
    "kaski_1_A.isna().sum()"
   ]
  },
  {
   "cell_type": "code",
   "execution_count": 9,
   "id": "33412b91",
   "metadata": {},
   "outputs": [
    {
     "data": {
      "text/plain": [
       "0     39\n",
       "1     42\n",
       "2     43\n",
       "3     34\n",
       "4     57\n",
       "5     68\n",
       "6     36\n",
       "7     37\n",
       "8     37\n",
       "9     39\n",
       "10    64\n",
       "11    32\n",
       "12    30\n",
       "Name: Age, dtype: int64"
      ]
     },
     "execution_count": 9,
     "metadata": {},
     "output_type": "execute_result"
    }
   ],
   "source": [
    "#Now all the null values are cleared. Lets see if there are any outliers.\n",
    "#Lets see Age column first. Should be between 18 to 100.\n",
    "kaski_1_A['Age']"
   ]
  },
  {
   "cell_type": "code",
   "execution_count": 10,
   "id": "3db024f5",
   "metadata": {},
   "outputs": [],
   "source": [
    "#Lets find the total no of votes.\n",
    "tot = kaski_1_A['TotalVotesReceived'].sum()"
   ]
  },
  {
   "cell_type": "code",
   "execution_count": 11,
   "id": "66404eee",
   "metadata": {},
   "outputs": [
    {
     "data": {
      "text/plain": [
       "34.01816530426885"
      ]
     },
     "execution_count": 11,
     "metadata": {},
     "output_type": "execute_result"
    }
   ],
   "source": [
    "#percentage of votes got by elected candidate\n",
    "'''for i in kaski_1_A['EStatus']:\n",
    "    if kaski_1_A['EStatus'] == 'Elected':\n",
    "        vote = kaski_1_A['TotalVotesReceived']\n",
    "#vote = kaski_1_A['TotalVotesReceived'] '''\n",
    "(18727/tot)*100\n"
   ]
  },
  {
   "cell_type": "code",
   "execution_count": 12,
   "id": "a7d6a388",
   "metadata": {},
   "outputs": [],
   "source": [
    "#Lets repeat the same process for other election areas of Kaski"
   ]
  },
  {
   "cell_type": "code",
   "execution_count": 13,
   "id": "d6468a61",
   "metadata": {},
   "outputs": [],
   "source": [
    "kaski_1_B = pd.read_csv(\"Datathon Final dataset/state election 2074/गण्डकी प्रदेश/कास्की/१/B.csv\")"
   ]
  },
  {
   "cell_type": "code",
   "execution_count": 14,
   "id": "11a8d164",
   "metadata": {},
   "outputs": [
    {
     "data": {
      "text/html": [
       "<div>\n",
       "<style scoped>\n",
       "    .dataframe tbody tr th:only-of-type {\n",
       "        vertical-align: middle;\n",
       "    }\n",
       "\n",
       "    .dataframe tbody tr th {\n",
       "        vertical-align: top;\n",
       "    }\n",
       "\n",
       "    .dataframe thead th {\n",
       "        text-align: right;\n",
       "    }\n",
       "</style>\n",
       "<table border=\"1\" class=\"dataframe\">\n",
       "  <thead>\n",
       "    <tr style=\"text-align: right;\">\n",
       "      <th></th>\n",
       "      <th>SerialNo</th>\n",
       "      <th>StateID</th>\n",
       "      <th>CandidateName</th>\n",
       "      <th>Gender</th>\n",
       "      <th>Age</th>\n",
       "      <th>PoliticalPartyName</th>\n",
       "      <th>DistrictName</th>\n",
       "      <th>CenterConstID</th>\n",
       "      <th>SCConstID</th>\n",
       "      <th>TotalVotesReceived</th>\n",
       "      <th>EStatus</th>\n",
       "      <th>Rank</th>\n",
       "    </tr>\n",
       "  </thead>\n",
       "  <tbody>\n",
       "    <tr>\n",
       "      <th>0</th>\n",
       "      <td>2138</td>\n",
       "      <td>4</td>\n",
       "      <td>मन बहादुर गुरुङ्ग</td>\n",
       "      <td>पुरुष</td>\n",
       "      <td>51</td>\n",
       "      <td>नेपाल कम्युनिष्ट पार्टी (एमाले)</td>\n",
       "      <td>कास्की</td>\n",
       "      <td>1</td>\n",
       "      <td>2</td>\n",
       "      <td>17249.0</td>\n",
       "      <td>Elected</td>\n",
       "      <td>1.0</td>\n",
       "    </tr>\n",
       "    <tr>\n",
       "      <th>1</th>\n",
       "      <td>2139</td>\n",
       "      <td>4</td>\n",
       "      <td>कृष्ण वहादुर के सी</td>\n",
       "      <td>पुरुष</td>\n",
       "      <td>57</td>\n",
       "      <td>नेपाली काँग्रेस</td>\n",
       "      <td>कास्की</td>\n",
       "      <td>1</td>\n",
       "      <td>2</td>\n",
       "      <td>13102.0</td>\n",
       "      <td>NaN</td>\n",
       "      <td>2.0</td>\n",
       "    </tr>\n",
       "    <tr>\n",
       "      <th>2</th>\n",
       "      <td>2143</td>\n",
       "      <td>4</td>\n",
       "      <td>कमल थापा</td>\n",
       "      <td>पुरुष</td>\n",
       "      <td>-43</td>\n",
       "      <td>नयाँ शक्ति पार्टी नेपाल</td>\n",
       "      <td>कास्की</td>\n",
       "      <td>1</td>\n",
       "      <td>2</td>\n",
       "      <td>92.0</td>\n",
       "      <td>NaN</td>\n",
       "      <td>6.0</td>\n",
       "    </tr>\n",
       "    <tr>\n",
       "      <th>3</th>\n",
       "      <td>2140</td>\n",
       "      <td>4</td>\n",
       "      <td>काशी माया गुरुङ्ग</td>\n",
       "      <td>महिला</td>\n",
       "      <td>43</td>\n",
       "      <td>संघीय समाजवादी फोरम नेपाल</td>\n",
       "      <td>कास्की</td>\n",
       "      <td>1</td>\n",
       "      <td>2</td>\n",
       "      <td>407.0</td>\n",
       "      <td>NaN</td>\n",
       "      <td>3.0</td>\n",
       "    </tr>\n",
       "    <tr>\n",
       "      <th>4</th>\n",
       "      <td>2141</td>\n",
       "      <td>4</td>\n",
       "      <td>फणीन्द्र मोहन कंडेल</td>\n",
       "      <td>पुरुष</td>\n",
       "      <td>34</td>\n",
       "      <td>विवेकशील साझा पार्टी</td>\n",
       "      <td>कास्की</td>\n",
       "      <td>1</td>\n",
       "      <td>2</td>\n",
       "      <td>369.0</td>\n",
       "      <td>NaN</td>\n",
       "      <td>4.0</td>\n",
       "    </tr>\n",
       "  </tbody>\n",
       "</table>\n",
       "</div>"
      ],
      "text/plain": [
       "  SerialNo StateID        CandidateName Gender  Age  \\\n",
       "0     2138       4    मन बहादुर गुरुङ्ग  पुरुष   51   \n",
       "1     2139       4   कृष्ण वहादुर के सी  पुरुष   57   \n",
       "2     2143       4             कमल थापा  पुरुष  -43   \n",
       "3     2140       4    काशी माया गुरुङ्ग  महिला   43   \n",
       "4     2141       4  फणीन्द्र मोहन कंडेल  पुरुष   34   \n",
       "\n",
       "                PoliticalPartyName DistrictName CenterConstID SCConstID  \\\n",
       "0  नेपाल कम्युनिष्ट पार्टी (एमाले)       कास्की             1         2   \n",
       "1                  नेपाली काँग्रेस       कास्की             1         2   \n",
       "2          नयाँ शक्ति पार्टी नेपाल       कास्की             1         2   \n",
       "3        संघीय समाजवादी फोरम नेपाल       कास्की             1         2   \n",
       "4             विवेकशील साझा पार्टी       कास्की             1         2   \n",
       "\n",
       "   TotalVotesReceived  EStatus  Rank  \n",
       "0             17249.0  Elected   1.0  \n",
       "1             13102.0      NaN   2.0  \n",
       "2                92.0      NaN   6.0  \n",
       "3               407.0      NaN   3.0  \n",
       "4               369.0      NaN   4.0  "
      ]
     },
     "execution_count": 14,
     "metadata": {},
     "output_type": "execute_result"
    }
   ],
   "source": [
    "kaski_1_B.head()"
   ]
  },
  {
   "cell_type": "code",
   "execution_count": 15,
   "id": "62427a57",
   "metadata": {},
   "outputs": [
    {
     "data": {
      "text/html": [
       "<div>\n",
       "<style scoped>\n",
       "    .dataframe tbody tr th:only-of-type {\n",
       "        vertical-align: middle;\n",
       "    }\n",
       "\n",
       "    .dataframe tbody tr th {\n",
       "        vertical-align: top;\n",
       "    }\n",
       "\n",
       "    .dataframe thead th {\n",
       "        text-align: right;\n",
       "    }\n",
       "</style>\n",
       "<table border=\"1\" class=\"dataframe\">\n",
       "  <thead>\n",
       "    <tr style=\"text-align: right;\">\n",
       "      <th></th>\n",
       "      <th>SerialNo</th>\n",
       "      <th>StateID</th>\n",
       "      <th>CandidateName</th>\n",
       "      <th>Gender</th>\n",
       "      <th>Age</th>\n",
       "      <th>PoliticalPartyName</th>\n",
       "      <th>DistrictName</th>\n",
       "      <th>CenterConstID</th>\n",
       "      <th>SCConstID</th>\n",
       "      <th>TotalVotesReceived</th>\n",
       "      <th>EStatus</th>\n",
       "      <th>Rank</th>\n",
       "    </tr>\n",
       "  </thead>\n",
       "  <tbody>\n",
       "    <tr>\n",
       "      <th>0</th>\n",
       "      <td>2148</td>\n",
       "      <td>4</td>\n",
       "      <td>कृष्ण बहादुर थापा</td>\n",
       "      <td>पुरुष</td>\n",
       "      <td>57</td>\n",
       "      <td>नेपाल कम्युनिष्ट पार्टी (एमाले)</td>\n",
       "      <td>कास्की</td>\n",
       "      <td>2</td>\n",
       "      <td>1</td>\n",
       "      <td>15329</td>\n",
       "      <td>Elected</td>\n",
       "      <td>1</td>\n",
       "    </tr>\n",
       "    <tr>\n",
       "      <th>1</th>\n",
       "      <td>2149</td>\n",
       "      <td>4</td>\n",
       "      <td>गुरु प्रसाद वराल</td>\n",
       "      <td>पुरुष</td>\n",
       "      <td>42</td>\n",
       "      <td>नेपाली काँग्रेस</td>\n",
       "      <td>कास्की</td>\n",
       "      <td>2</td>\n",
       "      <td>1</td>\n",
       "      <td>8325</td>\n",
       "      <td>NaN</td>\n",
       "      <td>2</td>\n",
       "    </tr>\n",
       "    <tr>\n",
       "      <th>2</th>\n",
       "      <td>2150</td>\n",
       "      <td>4</td>\n",
       "      <td>चिरन जीबी बराल</td>\n",
       "      <td>पुरुष</td>\n",
       "      <td>50</td>\n",
       "      <td>विवेकशील साझा पार्टी</td>\n",
       "      <td>कास्की</td>\n",
       "      <td>2</td>\n",
       "      <td>1</td>\n",
       "      <td>594</td>\n",
       "      <td>NaN</td>\n",
       "      <td>3</td>\n",
       "    </tr>\n",
       "    <tr>\n",
       "      <th>3</th>\n",
       "      <td>2153</td>\n",
       "      <td>4</td>\n",
       "      <td>कुल बहादुर भुजेल</td>\n",
       "      <td>पुरुष</td>\n",
       "      <td>53</td>\n",
       "      <td>संघीय समाजवादी फोरम नेपाल</td>\n",
       "      <td>कास्की</td>\n",
       "      <td>2</td>\n",
       "      <td>1</td>\n",
       "      <td>284</td>\n",
       "      <td>NaN</td>\n",
       "      <td>6</td>\n",
       "    </tr>\n",
       "    <tr>\n",
       "      <th>4</th>\n",
       "      <td>2151</td>\n",
       "      <td>4</td>\n",
       "      <td>हेम बहादुर थापा पराजुली</td>\n",
       "      <td>पुरुष</td>\n",
       "      <td>34</td>\n",
       "      <td>नयाँ शक्ति पार्टी नेपाल</td>\n",
       "      <td>कास्की</td>\n",
       "      <td>2</td>\n",
       "      <td>1</td>\n",
       "      <td>593</td>\n",
       "      <td>NaN</td>\n",
       "      <td>4</td>\n",
       "    </tr>\n",
       "  </tbody>\n",
       "</table>\n",
       "</div>"
      ],
      "text/plain": [
       "   SerialNo  StateID            CandidateName Gender  Age  \\\n",
       "0      2148        4        कृष्ण बहादुर थापा  पुरुष   57   \n",
       "1      2149        4         गुरु प्रसाद वराल  पुरुष   42   \n",
       "2      2150        4           चिरन जीबी बराल  पुरुष   50   \n",
       "3      2153        4         कुल बहादुर भुजेल  पुरुष   53   \n",
       "4      2151        4  हेम बहादुर थापा पराजुली  पुरुष   34   \n",
       "\n",
       "                PoliticalPartyName DistrictName  CenterConstID  SCConstID  \\\n",
       "0  नेपाल कम्युनिष्ट पार्टी (एमाले)       कास्की              2          1   \n",
       "1                  नेपाली काँग्रेस       कास्की              2          1   \n",
       "2             विवेकशील साझा पार्टी       कास्की              2          1   \n",
       "3        संघीय समाजवादी फोरम नेपाल       कास्की              2          1   \n",
       "4          नयाँ शक्ति पार्टी नेपाल       कास्की              2          1   \n",
       "\n",
       "   TotalVotesReceived  EStatus  Rank  \n",
       "0               15329  Elected     1  \n",
       "1                8325      NaN     2  \n",
       "2                 594      NaN     3  \n",
       "3                 284      NaN     6  \n",
       "4                 593      NaN     4  "
      ]
     },
     "execution_count": 15,
     "metadata": {},
     "output_type": "execute_result"
    }
   ],
   "source": [
    "kaski_2_A = pd.read_csv(\"Datathon Final dataset/state election 2074/गण्डकी प्रदेश/कास्की/२/A.csv\") \n",
    "kaski_2_A.head()"
   ]
  },
  {
   "cell_type": "code",
   "execution_count": 16,
   "id": "687d5b99",
   "metadata": {},
   "outputs": [
    {
     "data": {
      "text/html": [
       "<div>\n",
       "<style scoped>\n",
       "    .dataframe tbody tr th:only-of-type {\n",
       "        vertical-align: middle;\n",
       "    }\n",
       "\n",
       "    .dataframe tbody tr th {\n",
       "        vertical-align: top;\n",
       "    }\n",
       "\n",
       "    .dataframe thead th {\n",
       "        text-align: right;\n",
       "    }\n",
       "</style>\n",
       "<table border=\"1\" class=\"dataframe\">\n",
       "  <thead>\n",
       "    <tr style=\"text-align: right;\">\n",
       "      <th></th>\n",
       "      <th>SerialNo</th>\n",
       "      <th>StateID</th>\n",
       "      <th>CandidateName</th>\n",
       "      <th>Gender</th>\n",
       "      <th>Age</th>\n",
       "      <th>PoliticalPartyName</th>\n",
       "      <th>DistrictName</th>\n",
       "      <th>CenterConstID</th>\n",
       "      <th>SCConstID</th>\n",
       "      <th>TotalVotesReceived</th>\n",
       "      <th>EStatus</th>\n",
       "      <th>Rank</th>\n",
       "    </tr>\n",
       "  </thead>\n",
       "  <tbody>\n",
       "    <tr>\n",
       "      <th>0</th>\n",
       "      <td>2157</td>\n",
       "      <td>4</td>\n",
       "      <td>बिन्दु कुमार थापा</td>\n",
       "      <td>पुरुष</td>\n",
       "      <td>60</td>\n",
       "      <td>नेपाली काँग्रेस</td>\n",
       "      <td>कास्की</td>\n",
       "      <td>2</td>\n",
       "      <td>2</td>\n",
       "      <td>10726</td>\n",
       "      <td>Elected</td>\n",
       "      <td>1</td>\n",
       "    </tr>\n",
       "    <tr>\n",
       "      <th>1</th>\n",
       "      <td>2158</td>\n",
       "      <td>4</td>\n",
       "      <td>राजकाजी गुरुङ</td>\n",
       "      <td>पुरुष</td>\n",
       "      <td>39</td>\n",
       "      <td>नेपाल कम्युनिष्ट पार्टी (माओवादी केन्द्र)</td>\n",
       "      <td>कास्की</td>\n",
       "      <td>2</td>\n",
       "      <td>2</td>\n",
       "      <td>9924</td>\n",
       "      <td>NaN</td>\n",
       "      <td>2</td>\n",
       "    </tr>\n",
       "    <tr>\n",
       "      <th>2</th>\n",
       "      <td>2159</td>\n",
       "      <td>4</td>\n",
       "      <td>नरेश शंकर पालिखे</td>\n",
       "      <td>पुरुष</td>\n",
       "      <td>54</td>\n",
       "      <td>स्वतन्त्र</td>\n",
       "      <td>कास्की</td>\n",
       "      <td>2</td>\n",
       "      <td>2</td>\n",
       "      <td>1292</td>\n",
       "      <td>NaN</td>\n",
       "      <td>3</td>\n",
       "    </tr>\n",
       "    <tr>\n",
       "      <th>3</th>\n",
       "      <td>2160</td>\n",
       "      <td>4</td>\n",
       "      <td>विष्णु बहादुर खत्री</td>\n",
       "      <td>पुरुष</td>\n",
       "      <td>60</td>\n",
       "      <td>राष्ट्रिय प्रजातन्त्र पार्टी</td>\n",
       "      <td>कास्की</td>\n",
       "      <td>2</td>\n",
       "      <td>2</td>\n",
       "      <td>430</td>\n",
       "      <td>NaN</td>\n",
       "      <td>4</td>\n",
       "    </tr>\n",
       "    <tr>\n",
       "      <th>4</th>\n",
       "      <td>2161</td>\n",
       "      <td>4</td>\n",
       "      <td>देवेन्द्र किशोर वास्तोला</td>\n",
       "      <td>पुरुष</td>\n",
       "      <td>44</td>\n",
       "      <td>राष्ट्रिय प्रजातन्त्र पार्टी (प्रजातान्त्रिक)</td>\n",
       "      <td>कास्की</td>\n",
       "      <td>2</td>\n",
       "      <td>2</td>\n",
       "      <td>180</td>\n",
       "      <td>NaN</td>\n",
       "      <td>5</td>\n",
       "    </tr>\n",
       "  </tbody>\n",
       "</table>\n",
       "</div>"
      ],
      "text/plain": [
       "   SerialNo  StateID             CandidateName Gender  Age  \\\n",
       "0      2157        4         बिन्दु कुमार थापा  पुरुष   60   \n",
       "1      2158        4             राजकाजी गुरुङ  पुरुष   39   \n",
       "2      2159        4          नरेश शंकर पालिखे  पुरुष   54   \n",
       "3      2160        4       विष्णु बहादुर खत्री  पुरुष   60   \n",
       "4      2161        4  देवेन्द्र किशोर वास्तोला  पुरुष   44   \n",
       "\n",
       "                              PoliticalPartyName DistrictName  CenterConstID  \\\n",
       "0                                नेपाली काँग्रेस       कास्की              2   \n",
       "1      नेपाल कम्युनिष्ट पार्टी (माओवादी केन्द्र)       कास्की              2   \n",
       "2                                      स्वतन्त्र       कास्की              2   \n",
       "3                   राष्ट्रिय प्रजातन्त्र पार्टी       कास्की              2   \n",
       "4  राष्ट्रिय प्रजातन्त्र पार्टी (प्रजातान्त्रिक)       कास्की              2   \n",
       "\n",
       "   SCConstID  TotalVotesReceived  EStatus  Rank  \n",
       "0          2               10726  Elected     1  \n",
       "1          2                9924      NaN     2  \n",
       "2          2                1292      NaN     3  \n",
       "3          2                 430      NaN     4  \n",
       "4          2                 180      NaN     5  "
      ]
     },
     "execution_count": 16,
     "metadata": {},
     "output_type": "execute_result"
    }
   ],
   "source": [
    "kaski_2_B = pd.read_csv(\"Datathon Final dataset/state election 2074/गण्डकी प्रदेश/कास्की/२/B.csv\") \n",
    "kaski_2_B.head()"
   ]
  },
  {
   "cell_type": "code",
   "execution_count": 17,
   "id": "afc650a4",
   "metadata": {},
   "outputs": [
    {
     "data": {
      "text/plain": [
       "SerialNo              0\n",
       "StateID               0\n",
       "CandidateName         0\n",
       "Gender                0\n",
       "Age                   0\n",
       "PoliticalPartyName    0\n",
       "DistrictName          0\n",
       "CenterConstID         0\n",
       "SCConstID             0\n",
       "TotalVotesReceived    1\n",
       "EStatus               9\n",
       "Rank                  1\n",
       "dtype: int64"
      ]
     },
     "execution_count": 17,
     "metadata": {},
     "output_type": "execute_result"
    }
   ],
   "source": [
    "kaski_1_B.isna().sum()"
   ]
  },
  {
   "cell_type": "code",
   "execution_count": 18,
   "id": "a3f53800",
   "metadata": {},
   "outputs": [],
   "source": [
    "#Lets replace nan value in EStatus column by NotElected\n",
    "kaski_1_B['EStatus'].replace(np.nan, 'Not_Elected',inplace  = True)"
   ]
  },
  {
   "cell_type": "code",
   "execution_count": 19,
   "id": "69daa09e",
   "metadata": {},
   "outputs": [
    {
     "data": {
      "text/plain": [
       "SerialNo              0\n",
       "StateID               0\n",
       "CandidateName         0\n",
       "Gender                0\n",
       "Age                   0\n",
       "PoliticalPartyName    0\n",
       "DistrictName          0\n",
       "CenterConstID         0\n",
       "SCConstID             0\n",
       "TotalVotesReceived    1\n",
       "EStatus               0\n",
       "Rank                  1\n",
       "dtype: int64"
      ]
     },
     "execution_count": 19,
     "metadata": {},
     "output_type": "execute_result"
    }
   ],
   "source": [
    "kaski_1_B.isna().sum()"
   ]
  },
  {
   "cell_type": "code",
   "execution_count": 20,
   "id": "cf502743",
   "metadata": {},
   "outputs": [],
   "source": [
    "kaski_1_B.dropna(axis = 0, inplace=True)"
   ]
  },
  {
   "cell_type": "code",
   "execution_count": 21,
   "id": "fc876c0f",
   "metadata": {},
   "outputs": [
    {
     "data": {
      "text/plain": [
       "SerialNo              0\n",
       "StateID               0\n",
       "CandidateName         0\n",
       "Gender                0\n",
       "Age                   0\n",
       "PoliticalPartyName    0\n",
       "DistrictName          0\n",
       "CenterConstID         0\n",
       "SCConstID             0\n",
       "TotalVotesReceived    0\n",
       "EStatus               0\n",
       "Rank                  0\n",
       "dtype: int64"
      ]
     },
     "execution_count": 21,
     "metadata": {},
     "output_type": "execute_result"
    }
   ],
   "source": [
    "kaski_1_B.isna().sum()"
   ]
  },
  {
   "cell_type": "code",
   "execution_count": 22,
   "id": "a5292004",
   "metadata": {},
   "outputs": [
    {
     "data": {
      "text/plain": [
       "0      51\n",
       "1      57\n",
       "2     -43\n",
       "3      43\n",
       "4      34\n",
       "5      40\n",
       "7      42\n",
       "8      60\n",
       "9      63\n",
       "10     34\n",
       "Name: Age, dtype: object"
      ]
     },
     "execution_count": 22,
     "metadata": {},
     "output_type": "execute_result"
    }
   ],
   "source": [
    "#Now all the null values are cleared. Lets see if there are any outliers.\n",
    "#Lets see Age column first. Should be between 18 to 100.\n",
    "kaski_1_B['Age']"
   ]
  },
  {
   "cell_type": "code",
   "execution_count": 23,
   "id": "c50e809b",
   "metadata": {},
   "outputs": [],
   "source": [
    "kaski_1_B['Age'] = kaski_1_B['Age'].astype(str).astype(int)"
   ]
  },
  {
   "cell_type": "code",
   "execution_count": 24,
   "id": "6d8787e8",
   "metadata": {},
   "outputs": [
    {
     "data": {
      "text/plain": [
       "0     51\n",
       "1     57\n",
       "2    -43\n",
       "3     43\n",
       "4     34\n",
       "5     40\n",
       "7     42\n",
       "8     60\n",
       "9     63\n",
       "10    34\n",
       "Name: Age, dtype: int32"
      ]
     },
     "execution_count": 24,
     "metadata": {},
     "output_type": "execute_result"
    }
   ],
   "source": [
    "kaski_1_B['Age']"
   ]
  },
  {
   "cell_type": "code",
   "execution_count": 25,
   "id": "597355e9",
   "metadata": {},
   "outputs": [],
   "source": [
    "#Lets remove the row with negative Age \n",
    "kaski_1_B= kaski_1_B[(kaski_1_B.Age > 18)] #and (kaski_1_B.Age >18)]"
   ]
  },
  {
   "cell_type": "code",
   "execution_count": 26,
   "id": "f5707835",
   "metadata": {},
   "outputs": [
    {
     "data": {
      "text/plain": [
       "0     51\n",
       "1     57\n",
       "3     43\n",
       "4     34\n",
       "5     40\n",
       "7     42\n",
       "8     60\n",
       "9     63\n",
       "10    34\n",
       "Name: Age, dtype: int32"
      ]
     },
     "execution_count": 26,
     "metadata": {},
     "output_type": "execute_result"
    }
   ],
   "source": [
    "kaski_1_B.Age"
   ]
  },
  {
   "cell_type": "code",
   "execution_count": 27,
   "id": "783c66d2",
   "metadata": {},
   "outputs": [
    {
     "data": {
      "text/plain": [
       "31420.0"
      ]
     },
     "execution_count": 27,
     "metadata": {},
     "output_type": "execute_result"
    }
   ],
   "source": [
    "#Lets find the total no of votes.\n",
    "tot_1_B = kaski_1_B['TotalVotesReceived'].sum()\n",
    "tot_1_B"
   ]
  },
  {
   "cell_type": "code",
   "execution_count": 28,
   "id": "97715ab8",
   "metadata": {},
   "outputs": [
    {
     "data": {
      "text/plain": [
       "31.333333333333336"
      ]
     },
     "execution_count": 28,
     "metadata": {},
     "output_type": "execute_result"
    }
   ],
   "source": [
    "#percentage of votes by elected candidate\n",
    "(17249/tot)*100"
   ]
  },
  {
   "cell_type": "code",
   "execution_count": 30,
   "id": "c882b9d8",
   "metadata": {},
   "outputs": [],
   "source": [
    "#Merging Kaski_2_A and Kaski_2_B and visualizing everything together\n",
    "kaski_2 = pd.concat([kaski_2_A, kaski_2_B], axis=0)"
   ]
  },
  {
   "cell_type": "code",
   "execution_count": 32,
   "id": "f8a61d33",
   "metadata": {},
   "outputs": [
    {
     "data": {
      "text/plain": [
       "11"
      ]
     },
     "execution_count": 32,
     "metadata": {},
     "output_type": "execute_result"
    }
   ],
   "source": [
    "len(kaski_2_A)"
   ]
  },
  {
   "cell_type": "code",
   "execution_count": 33,
   "id": "fba70972",
   "metadata": {},
   "outputs": [
    {
     "data": {
      "text/plain": [
       "10"
      ]
     },
     "execution_count": 33,
     "metadata": {},
     "output_type": "execute_result"
    }
   ],
   "source": [
    "len(kaski_2_B)"
   ]
  },
  {
   "cell_type": "code",
   "execution_count": 34,
   "id": "7781e442",
   "metadata": {},
   "outputs": [
    {
     "data": {
      "text/plain": [
       "21"
      ]
     },
     "execution_count": 34,
     "metadata": {},
     "output_type": "execute_result"
    }
   ],
   "source": [
    "len(kaski_2)"
   ]
  },
  {
   "cell_type": "code",
   "execution_count": 36,
   "id": "8f9612a6",
   "metadata": {},
   "outputs": [
    {
     "data": {
      "text/html": [
       "<div>\n",
       "<style scoped>\n",
       "    .dataframe tbody tr th:only-of-type {\n",
       "        vertical-align: middle;\n",
       "    }\n",
       "\n",
       "    .dataframe tbody tr th {\n",
       "        vertical-align: top;\n",
       "    }\n",
       "\n",
       "    .dataframe thead th {\n",
       "        text-align: right;\n",
       "    }\n",
       "</style>\n",
       "<table border=\"1\" class=\"dataframe\">\n",
       "  <thead>\n",
       "    <tr style=\"text-align: right;\">\n",
       "      <th></th>\n",
       "      <th>SerialNo</th>\n",
       "      <th>StateID</th>\n",
       "      <th>CandidateName</th>\n",
       "      <th>Gender</th>\n",
       "      <th>Age</th>\n",
       "      <th>PoliticalPartyName</th>\n",
       "      <th>DistrictName</th>\n",
       "      <th>CenterConstID</th>\n",
       "      <th>SCConstID</th>\n",
       "      <th>TotalVotesReceived</th>\n",
       "      <th>EStatus</th>\n",
       "      <th>Rank</th>\n",
       "    </tr>\n",
       "  </thead>\n",
       "  <tbody>\n",
       "    <tr>\n",
       "      <th>0</th>\n",
       "      <td>2148</td>\n",
       "      <td>4</td>\n",
       "      <td>कृष्ण बहादुर थापा</td>\n",
       "      <td>पुरुष</td>\n",
       "      <td>57</td>\n",
       "      <td>नेपाल कम्युनिष्ट पार्टी (एमाले)</td>\n",
       "      <td>कास्की</td>\n",
       "      <td>2</td>\n",
       "      <td>1</td>\n",
       "      <td>15329</td>\n",
       "      <td>Elected</td>\n",
       "      <td>1</td>\n",
       "    </tr>\n",
       "    <tr>\n",
       "      <th>1</th>\n",
       "      <td>2149</td>\n",
       "      <td>4</td>\n",
       "      <td>गुरु प्रसाद वराल</td>\n",
       "      <td>पुरुष</td>\n",
       "      <td>42</td>\n",
       "      <td>नेपाली काँग्रेस</td>\n",
       "      <td>कास्की</td>\n",
       "      <td>2</td>\n",
       "      <td>1</td>\n",
       "      <td>8325</td>\n",
       "      <td>NaN</td>\n",
       "      <td>2</td>\n",
       "    </tr>\n",
       "    <tr>\n",
       "      <th>2</th>\n",
       "      <td>2150</td>\n",
       "      <td>4</td>\n",
       "      <td>चिरन जीबी बराल</td>\n",
       "      <td>पुरुष</td>\n",
       "      <td>50</td>\n",
       "      <td>विवेकशील साझा पार्टी</td>\n",
       "      <td>कास्की</td>\n",
       "      <td>2</td>\n",
       "      <td>1</td>\n",
       "      <td>594</td>\n",
       "      <td>NaN</td>\n",
       "      <td>3</td>\n",
       "    </tr>\n",
       "    <tr>\n",
       "      <th>3</th>\n",
       "      <td>2153</td>\n",
       "      <td>4</td>\n",
       "      <td>कुल बहादुर भुजेल</td>\n",
       "      <td>पुरुष</td>\n",
       "      <td>53</td>\n",
       "      <td>संघीय समाजवादी फोरम नेपाल</td>\n",
       "      <td>कास्की</td>\n",
       "      <td>2</td>\n",
       "      <td>1</td>\n",
       "      <td>284</td>\n",
       "      <td>NaN</td>\n",
       "      <td>6</td>\n",
       "    </tr>\n",
       "    <tr>\n",
       "      <th>4</th>\n",
       "      <td>2151</td>\n",
       "      <td>4</td>\n",
       "      <td>हेम बहादुर थापा पराजुली</td>\n",
       "      <td>पुरुष</td>\n",
       "      <td>34</td>\n",
       "      <td>नयाँ शक्ति पार्टी नेपाल</td>\n",
       "      <td>कास्की</td>\n",
       "      <td>2</td>\n",
       "      <td>1</td>\n",
       "      <td>593</td>\n",
       "      <td>NaN</td>\n",
       "      <td>4</td>\n",
       "    </tr>\n",
       "  </tbody>\n",
       "</table>\n",
       "</div>"
      ],
      "text/plain": [
       "   SerialNo  StateID            CandidateName Gender  Age  \\\n",
       "0      2148        4        कृष्ण बहादुर थापा  पुरुष   57   \n",
       "1      2149        4         गुरु प्रसाद वराल  पुरुष   42   \n",
       "2      2150        4           चिरन जीबी बराल  पुरुष   50   \n",
       "3      2153        4         कुल बहादुर भुजेल  पुरुष   53   \n",
       "4      2151        4  हेम बहादुर थापा पराजुली  पुरुष   34   \n",
       "\n",
       "                PoliticalPartyName DistrictName  CenterConstID  SCConstID  \\\n",
       "0  नेपाल कम्युनिष्ट पार्टी (एमाले)       कास्की              2          1   \n",
       "1                  नेपाली काँग्रेस       कास्की              2          1   \n",
       "2             विवेकशील साझा पार्टी       कास्की              2          1   \n",
       "3        संघीय समाजवादी फोरम नेपाल       कास्की              2          1   \n",
       "4          नयाँ शक्ति पार्टी नेपाल       कास्की              2          1   \n",
       "\n",
       "   TotalVotesReceived  EStatus  Rank  \n",
       "0               15329  Elected     1  \n",
       "1                8325      NaN     2  \n",
       "2                 594      NaN     3  \n",
       "3                 284      NaN     6  \n",
       "4                 593      NaN     4  "
      ]
     },
     "execution_count": 36,
     "metadata": {},
     "output_type": "execute_result"
    }
   ],
   "source": [
    "kaski_2.head()"
   ]
  },
  {
   "cell_type": "code",
   "execution_count": 37,
   "id": "f6f1a920",
   "metadata": {},
   "outputs": [
    {
     "data": {
      "text/plain": [
       "SerialNo               0\n",
       "StateID                0\n",
       "CandidateName          0\n",
       "Gender                 0\n",
       "Age                    0\n",
       "PoliticalPartyName     0\n",
       "DistrictName           0\n",
       "CenterConstID          0\n",
       "SCConstID              0\n",
       "TotalVotesReceived     0\n",
       "EStatus               19\n",
       "Rank                   0\n",
       "dtype: int64"
      ]
     },
     "execution_count": 37,
     "metadata": {},
     "output_type": "execute_result"
    }
   ],
   "source": [
    "kaski_2.isna().sum()"
   ]
  },
  {
   "cell_type": "code",
   "execution_count": 38,
   "id": "17390d29",
   "metadata": {},
   "outputs": [],
   "source": [
    "#Lets replace nan value in EStatus column by NotElected\n",
    "kaski_2['EStatus'].replace(np.nan, 'Not_Elected',inplace  = True)"
   ]
  },
  {
   "cell_type": "code",
   "execution_count": 39,
   "id": "34c4ef0b",
   "metadata": {},
   "outputs": [
    {
     "data": {
      "text/plain": [
       "SerialNo              0\n",
       "StateID               0\n",
       "CandidateName         0\n",
       "Gender                0\n",
       "Age                   0\n",
       "PoliticalPartyName    0\n",
       "DistrictName          0\n",
       "CenterConstID         0\n",
       "SCConstID             0\n",
       "TotalVotesReceived    0\n",
       "EStatus               0\n",
       "Rank                  0\n",
       "dtype: int64"
      ]
     },
     "execution_count": 39,
     "metadata": {},
     "output_type": "execute_result"
    }
   ],
   "source": [
    "kaski_2.isna().sum()"
   ]
  },
  {
   "cell_type": "code",
   "execution_count": 40,
   "id": "db1316c7",
   "metadata": {},
   "outputs": [
    {
     "data": {
      "text/plain": [
       "0      57\n",
       "1      42\n",
       "2      50\n",
       "3      53\n",
       "4      34\n",
       "5      38\n",
       "6      53\n",
       "7      35\n",
       "8      49\n",
       "9     222\n",
       "10     67\n",
       "0      60\n",
       "1      39\n",
       "2      54\n",
       "3      60\n",
       "4      44\n",
       "5      45\n",
       "6      59\n",
       "7      31\n",
       "8      57\n",
       "9      53\n",
       "Name: Age, dtype: int64"
      ]
     },
     "execution_count": 40,
     "metadata": {},
     "output_type": "execute_result"
    }
   ],
   "source": [
    "#Now all the null values are cleared. Lets see if there are any outliers.\n",
    "#Lets see Age column first. Should be between 18 to 100.\n",
    "kaski_2['Age']"
   ]
  },
  {
   "cell_type": "code",
   "execution_count": 41,
   "id": "f3574ef4",
   "metadata": {},
   "outputs": [],
   "source": [
    "#Lets remove the row with negative Age \n",
    "kaski_2= kaski_2[(kaski_2.Age < 100)]"
   ]
  },
  {
   "cell_type": "code",
   "execution_count": 42,
   "id": "292fbe93",
   "metadata": {},
   "outputs": [
    {
     "data": {
      "text/plain": [
       "0     57\n",
       "1     42\n",
       "2     50\n",
       "3     53\n",
       "4     34\n",
       "5     38\n",
       "6     53\n",
       "7     35\n",
       "8     49\n",
       "10    67\n",
       "0     60\n",
       "1     39\n",
       "2     54\n",
       "3     60\n",
       "4     44\n",
       "5     45\n",
       "6     59\n",
       "7     31\n",
       "8     57\n",
       "9     53\n",
       "Name: Age, dtype: int64"
      ]
     },
     "execution_count": 42,
     "metadata": {},
     "output_type": "execute_result"
    }
   ],
   "source": [
    "kaski_2.Age"
   ]
  },
  {
   "cell_type": "code",
   "execution_count": 43,
   "id": "2eb69476",
   "metadata": {},
   "outputs": [
    {
     "name": "stdout",
     "output_type": "stream",
     "text": [
      "<class 'pandas.core.frame.DataFrame'>\n",
      "Int64Index: 20 entries, 0 to 9\n",
      "Data columns (total 12 columns):\n",
      " #   Column              Non-Null Count  Dtype \n",
      "---  ------              --------------  ----- \n",
      " 0   SerialNo            20 non-null     int64 \n",
      " 1   StateID             20 non-null     int64 \n",
      " 2   CandidateName       20 non-null     object\n",
      " 3   Gender              20 non-null     object\n",
      " 4   Age                 20 non-null     int64 \n",
      " 5   PoliticalPartyName  20 non-null     object\n",
      " 6   DistrictName        20 non-null     object\n",
      " 7   CenterConstID       20 non-null     int64 \n",
      " 8   SCConstID           20 non-null     int64 \n",
      " 9   TotalVotesReceived  20 non-null     int64 \n",
      " 10  EStatus             20 non-null     object\n",
      " 11  Rank                20 non-null     int64 \n",
      "dtypes: int64(7), object(5)\n",
      "memory usage: 2.0+ KB\n"
     ]
    }
   ],
   "source": [
    "kaski_2.info()"
   ]
  },
  {
   "cell_type": "code",
   "execution_count": 48,
   "id": "8bf45a40",
   "metadata": {},
   "outputs": [
    {
     "name": "stderr",
     "output_type": "stream",
     "text": [
      "C:\\Users\\Dell\\anaconda3\\lib\\site-packages\\IPython\\core\\pylabtools.py:151: UserWarning: Glyph 2344 (\\N{DEVANAGARI LETTER NA}) missing from current font.\n",
      "  fig.canvas.print_figure(bytes_io, **kw)\n",
      "C:\\Users\\Dell\\anaconda3\\lib\\site-packages\\IPython\\core\\pylabtools.py:151: UserWarning: Matplotlib currently does not support Devanagari natively.\n",
      "  fig.canvas.print_figure(bytes_io, **kw)\n",
      "C:\\Users\\Dell\\anaconda3\\lib\\site-packages\\IPython\\core\\pylabtools.py:151: UserWarning: Glyph 2375 (\\N{DEVANAGARI VOWEL SIGN E}) missing from current font.\n",
      "  fig.canvas.print_figure(bytes_io, **kw)\n",
      "C:\\Users\\Dell\\anaconda3\\lib\\site-packages\\IPython\\core\\pylabtools.py:151: UserWarning: Glyph 2346 (\\N{DEVANAGARI LETTER PA}) missing from current font.\n",
      "  fig.canvas.print_figure(bytes_io, **kw)\n",
      "C:\\Users\\Dell\\anaconda3\\lib\\site-packages\\IPython\\core\\pylabtools.py:151: UserWarning: Glyph 2366 (\\N{DEVANAGARI VOWEL SIGN AA}) missing from current font.\n",
      "  fig.canvas.print_figure(bytes_io, **kw)\n",
      "C:\\Users\\Dell\\anaconda3\\lib\\site-packages\\IPython\\core\\pylabtools.py:151: UserWarning: Glyph 2354 (\\N{DEVANAGARI LETTER LA}) missing from current font.\n",
      "  fig.canvas.print_figure(bytes_io, **kw)\n",
      "C:\\Users\\Dell\\anaconda3\\lib\\site-packages\\IPython\\core\\pylabtools.py:151: UserWarning: Glyph 2325 (\\N{DEVANAGARI LETTER KA}) missing from current font.\n",
      "  fig.canvas.print_figure(bytes_io, **kw)\n",
      "C:\\Users\\Dell\\anaconda3\\lib\\site-packages\\IPython\\core\\pylabtools.py:151: UserWarning: Glyph 2350 (\\N{DEVANAGARI LETTER MA}) missing from current font.\n",
      "  fig.canvas.print_figure(bytes_io, **kw)\n",
      "C:\\Users\\Dell\\anaconda3\\lib\\site-packages\\IPython\\core\\pylabtools.py:151: UserWarning: Glyph 2381 (\\N{DEVANAGARI SIGN VIRAMA}) missing from current font.\n",
      "  fig.canvas.print_figure(bytes_io, **kw)\n",
      "C:\\Users\\Dell\\anaconda3\\lib\\site-packages\\IPython\\core\\pylabtools.py:151: UserWarning: Glyph 2351 (\\N{DEVANAGARI LETTER YA}) missing from current font.\n",
      "  fig.canvas.print_figure(bytes_io, **kw)\n",
      "C:\\Users\\Dell\\anaconda3\\lib\\site-packages\\IPython\\core\\pylabtools.py:151: UserWarning: Glyph 2369 (\\N{DEVANAGARI VOWEL SIGN U}) missing from current font.\n",
      "  fig.canvas.print_figure(bytes_io, **kw)\n",
      "C:\\Users\\Dell\\anaconda3\\lib\\site-packages\\IPython\\core\\pylabtools.py:151: UserWarning: Glyph 2367 (\\N{DEVANAGARI VOWEL SIGN I}) missing from current font.\n",
      "  fig.canvas.print_figure(bytes_io, **kw)\n",
      "C:\\Users\\Dell\\anaconda3\\lib\\site-packages\\IPython\\core\\pylabtools.py:151: UserWarning: Glyph 2359 (\\N{DEVANAGARI LETTER SSA}) missing from current font.\n",
      "  fig.canvas.print_figure(bytes_io, **kw)\n",
      "C:\\Users\\Dell\\anaconda3\\lib\\site-packages\\IPython\\core\\pylabtools.py:151: UserWarning: Glyph 2335 (\\N{DEVANAGARI LETTER TTA}) missing from current font.\n",
      "  fig.canvas.print_figure(bytes_io, **kw)\n",
      "C:\\Users\\Dell\\anaconda3\\lib\\site-packages\\IPython\\core\\pylabtools.py:151: UserWarning: Glyph 2352 (\\N{DEVANAGARI LETTER RA}) missing from current font.\n",
      "  fig.canvas.print_figure(bytes_io, **kw)\n",
      "C:\\Users\\Dell\\anaconda3\\lib\\site-packages\\IPython\\core\\pylabtools.py:151: UserWarning: Glyph 2368 (\\N{DEVANAGARI VOWEL SIGN II}) missing from current font.\n",
      "  fig.canvas.print_figure(bytes_io, **kw)\n",
      "C:\\Users\\Dell\\anaconda3\\lib\\site-packages\\IPython\\core\\pylabtools.py:151: UserWarning: Glyph 2319 (\\N{DEVANAGARI LETTER E}) missing from current font.\n",
      "  fig.canvas.print_figure(bytes_io, **kw)\n",
      "C:\\Users\\Dell\\anaconda3\\lib\\site-packages\\IPython\\core\\pylabtools.py:151: UserWarning: Glyph 2305 (\\N{DEVANAGARI SIGN CANDRABINDU}) missing from current font.\n",
      "  fig.canvas.print_figure(bytes_io, **kw)\n",
      "C:\\Users\\Dell\\anaconda3\\lib\\site-packages\\IPython\\core\\pylabtools.py:151: UserWarning: Glyph 2327 (\\N{DEVANAGARI LETTER GA}) missing from current font.\n",
      "  fig.canvas.print_figure(bytes_io, **kw)\n",
      "C:\\Users\\Dell\\anaconda3\\lib\\site-packages\\IPython\\core\\pylabtools.py:151: UserWarning: Glyph 2360 (\\N{DEVANAGARI LETTER SA}) missing from current font.\n",
      "  fig.canvas.print_figure(bytes_io, **kw)\n",
      "C:\\Users\\Dell\\anaconda3\\lib\\site-packages\\IPython\\core\\pylabtools.py:151: UserWarning: Glyph 2357 (\\N{DEVANAGARI LETTER VA}) missing from current font.\n",
      "  fig.canvas.print_figure(bytes_io, **kw)\n",
      "C:\\Users\\Dell\\anaconda3\\lib\\site-packages\\IPython\\core\\pylabtools.py:151: UserWarning: Glyph 2358 (\\N{DEVANAGARI LETTER SHA}) missing from current font.\n",
      "  fig.canvas.print_figure(bytes_io, **kw)\n",
      "C:\\Users\\Dell\\anaconda3\\lib\\site-packages\\IPython\\core\\pylabtools.py:151: UserWarning: Glyph 2333 (\\N{DEVANAGARI LETTER JHA}) missing from current font.\n",
      "  fig.canvas.print_figure(bytes_io, **kw)\n",
      "C:\\Users\\Dell\\anaconda3\\lib\\site-packages\\IPython\\core\\pylabtools.py:151: UserWarning: Glyph 2306 (\\N{DEVANAGARI SIGN ANUSVARA}) missing from current font.\n",
      "  fig.canvas.print_figure(bytes_io, **kw)\n",
      "C:\\Users\\Dell\\anaconda3\\lib\\site-packages\\IPython\\core\\pylabtools.py:151: UserWarning: Glyph 2328 (\\N{DEVANAGARI LETTER GHA}) missing from current font.\n",
      "  fig.canvas.print_figure(bytes_io, **kw)\n",
      "C:\\Users\\Dell\\anaconda3\\lib\\site-packages\\IPython\\core\\pylabtools.py:151: UserWarning: Glyph 2332 (\\N{DEVANAGARI LETTER JA}) missing from current font.\n",
      "  fig.canvas.print_figure(bytes_io, **kw)\n",
      "C:\\Users\\Dell\\anaconda3\\lib\\site-packages\\IPython\\core\\pylabtools.py:151: UserWarning: Glyph 2342 (\\N{DEVANAGARI LETTER DA}) missing from current font.\n",
      "  fig.canvas.print_figure(bytes_io, **kw)\n",
      "C:\\Users\\Dell\\anaconda3\\lib\\site-packages\\IPython\\core\\pylabtools.py:151: UserWarning: Glyph 2347 (\\N{DEVANAGARI LETTER PHA}) missing from current font.\n",
      "  fig.canvas.print_figure(bytes_io, **kw)\n",
      "C:\\Users\\Dell\\anaconda3\\lib\\site-packages\\IPython\\core\\pylabtools.py:151: UserWarning: Glyph 2379 (\\N{DEVANAGARI VOWEL SIGN O}) missing from current font.\n",
      "  fig.canvas.print_figure(bytes_io, **kw)\n",
      "C:\\Users\\Dell\\anaconda3\\lib\\site-packages\\IPython\\core\\pylabtools.py:151: UserWarning: Glyph 2340 (\\N{DEVANAGARI LETTER TA}) missing from current font.\n",
      "  fig.canvas.print_figure(bytes_io, **kw)\n",
      "C:\\Users\\Dell\\anaconda3\\lib\\site-packages\\IPython\\core\\pylabtools.py:151: UserWarning: Glyph 2309 (\\N{DEVANAGARI LETTER A}) missing from current font.\n",
      "  fig.canvas.print_figure(bytes_io, **kw)\n",
      "C:\\Users\\Dell\\anaconda3\\lib\\site-packages\\IPython\\core\\pylabtools.py:151: UserWarning: Glyph 2311 (\\N{DEVANAGARI LETTER I}) missing from current font.\n",
      "  fig.canvas.print_figure(bytes_io, **kw)\n",
      "C:\\Users\\Dell\\anaconda3\\lib\\site-packages\\IPython\\core\\pylabtools.py:151: UserWarning: Glyph 2330 (\\N{DEVANAGARI LETTER CA}) missing from current font.\n",
      "  fig.canvas.print_figure(bytes_io, **kw)\n",
      "C:\\Users\\Dell\\anaconda3\\lib\\site-packages\\IPython\\core\\pylabtools.py:151: UserWarning: Glyph 2323 (\\N{DEVANAGARI LETTER O}) missing from current font.\n",
      "  fig.canvas.print_figure(bytes_io, **kw)\n"
     ]
    },
    {
     "data": {
      "image/png": "[encoded data removed]",
      "text/plain": [
       "<Figure size 640x480 with 1 Axes>"
      ]
     },
     "metadata": {},
     "output_type": "display_data"
    }
   ],
   "source": [
    "plt.bar(kaski_2.PoliticalPartyName ,kaski_2.TotalVotesReceived);\n"
   ]
  },
  {
   "cell_type": "code",
   "execution_count": null,
   "id": "3ef9995f",
   "metadata": {},
   "outputs": [],
   "source": []
  }
 ],
 "metadata": {
  "kernelspec": {
   "display_name": "Python 3 (ipykernel)",
   "language": "python",
   "name": "python3"
  },
  "language_info": {
   "codemirror_mode": {
    "name": "ipython",
    "version": 3
   },
   "file_extension": ".py",
   "mimetype": "text/x-python",
   "name": "python",
   "nbconvert_exporter": "python",
   "pygments_lexer": "ipython3",
   "version": "3.9.13"
  }
 },
 "nbformat": 4,
 "nbformat_minor": 5
}
